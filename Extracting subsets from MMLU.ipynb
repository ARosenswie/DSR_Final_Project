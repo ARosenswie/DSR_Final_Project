{
 "cells": [
  {
   "cell_type": "code",
   "execution_count": 1,
   "id": "99738d72",
   "metadata": {},
   "outputs": [],
   "source": [
    "from transformers import AutoTokenizer, AutoModelForMultipleChoice, TFAutoModelForSequenceClassification\n",
    "from datasets import load_dataset\n",
    "from tqdm import tqdm"
   ]
  },
  {
   "cell_type": "code",
   "execution_count": 2,
   "id": "280d68c2",
   "metadata": {},
   "outputs": [
    {
     "name": "stderr",
     "output_type": "stream",
     "text": [
      "/home/katia/anaconda3/lib/python3.9/site-packages/scipy/__init__.py:146: UserWarning: A NumPy version >=1.16.5 and <1.23.0 is required for this version of SciPy (detected version 1.24.3\n",
      "  warnings.warn(f\"A NumPy version >={np_minversion} and <{np_maxversion}\"\n"
     ]
    },
    {
     "name": "stdout",
     "output_type": "stream",
     "text": [
      "Downloading and preparing dataset mmlu/virology to /home/katia/.cache/huggingface/datasets/cais___mmlu/virology/1.0.0/5c9df7080598ff5f0cc84b0e0519cfdc5516c84877d7893e547389485cfa78d8...\n"
     ]
    },
    {
     "data": {
      "application/vnd.jupyter.widget-view+json": {
       "model_id": "",
       "version_major": 2,
       "version_minor": 0
      },
      "text/plain": [
       "Generating auxiliary_train split:   0%|          | 0/99842 [00:00<?, ? examples/s]"
      ]
     },
     "metadata": {},
     "output_type": "display_data"
    },
    {
     "data": {
      "application/vnd.jupyter.widget-view+json": {
       "model_id": "",
       "version_major": 2,
       "version_minor": 0
      },
      "text/plain": [
       "Generating test split:   0%|          | 0/166 [00:00<?, ? examples/s]"
      ]
     },
     "metadata": {},
     "output_type": "display_data"
    },
    {
     "data": {
      "application/vnd.jupyter.widget-view+json": {
       "model_id": "",
       "version_major": 2,
       "version_minor": 0
      },
      "text/plain": [
       "Generating validation split:   0%|          | 0/18 [00:00<?, ? examples/s]"
      ]
     },
     "metadata": {},
     "output_type": "display_data"
    },
    {
     "data": {
      "application/vnd.jupyter.widget-view+json": {
       "model_id": "",
       "version_major": 2,
       "version_minor": 0
      },
      "text/plain": [
       "Generating dev split:   0%|          | 0/5 [00:00<?, ? examples/s]"
      ]
     },
     "metadata": {},
     "output_type": "display_data"
    },
    {
     "name": "stdout",
     "output_type": "stream",
     "text": [
      "Dataset mmlu downloaded and prepared to /home/katia/.cache/huggingface/datasets/cais___mmlu/virology/1.0.0/5c9df7080598ff5f0cc84b0e0519cfdc5516c84877d7893e547389485cfa78d8. Subsequent calls will reuse this data.\n"
     ]
    },
    {
     "data": {
      "application/vnd.jupyter.widget-view+json": {
       "model_id": "848abaebf7a24e469f55f48df1a1b7fa",
       "version_major": 2,
       "version_minor": 0
      },
      "text/plain": [
       "  0%|          | 0/4 [00:00<?, ?it/s]"
      ]
     },
     "metadata": {},
     "output_type": "display_data"
    },
    {
     "data": {
      "text/plain": [
       "DatasetDict({\n",
       "    auxiliary_train: Dataset({\n",
       "        features: ['question', 'choices', 'answer'],\n",
       "        num_rows: 99842\n",
       "    })\n",
       "    test: Dataset({\n",
       "        features: ['question', 'choices', 'answer'],\n",
       "        num_rows: 166\n",
       "    })\n",
       "    validation: Dataset({\n",
       "        features: ['question', 'choices', 'answer'],\n",
       "        num_rows: 18\n",
       "    })\n",
       "    dev: Dataset({\n",
       "        features: ['question', 'choices', 'answer'],\n",
       "        num_rows: 5\n",
       "    })\n",
       "})"
      ]
     },
     "execution_count": 2,
     "metadata": {},
     "output_type": "execute_result"
    }
   ],
   "source": [
    "subsets = ['anatomy', 'clinical_knowledge', 'college_medicine', 'human_aging', 'human_sexuality', 'medical_genetics', 'nutrition',  'professional_medicine', 'professional_psychology', 'virology']\n",
    "j = 10\n",
    "\n",
    "dataset = load_dataset(\"cais/mmlu\", subsets[j])\n",
    "dataset"
   ]
  },
  {
   "cell_type": "code",
   "execution_count": 3,
   "id": "dfd9bbcc",
   "metadata": {},
   "outputs": [
    {
     "data": {
      "text/plain": [
       "{'question': 'How many human polyomaviruses are known at present?',\n",
       " 'choices': ['100', '1', '10', 'unknown'],\n",
       " 'answer': 0}"
      ]
     },
     "execution_count": 3,
     "metadata": {},
     "output_type": "execute_result"
    }
   ],
   "source": [
    "next(iter(dataset[\"test\"]))"
   ]
  },
  {
   "cell_type": "code",
   "execution_count": 4,
   "id": "046048fe",
   "metadata": {},
   "outputs": [
    {
     "data": {
      "text/plain": [
       "'How many human polyomaviruses are known at present?'"
      ]
     },
     "execution_count": 4,
     "metadata": {},
     "output_type": "execute_result"
    }
   ],
   "source": [
    "dataset[\"test\"][\"question\"][0]"
   ]
  },
  {
   "cell_type": "code",
   "execution_count": 5,
   "id": "4cf633dd",
   "metadata": {},
   "outputs": [
    {
     "data": {
      "text/plain": [
       "'100'"
      ]
     },
     "execution_count": 5,
     "metadata": {},
     "output_type": "execute_result"
    }
   ],
   "source": [
    "dataset[\"test\"][\"choices\"][0][dataset[\"test\"][\"answer\"][0]]"
   ]
  },
  {
   "cell_type": "code",
   "execution_count": 6,
   "id": "d2b2ce15",
   "metadata": {},
   "outputs": [
    {
     "name": "stderr",
     "output_type": "stream",
     "text": [
      "Processing: 100%|█████████████████████| 166/166 [00:00<00:00, 839.48iteration/s]\n"
     ]
    }
   ],
   "source": [
    "new_answer = []\n",
    "total_iterations = len(dataset['test'])\n",
    "\n",
    "# Create a progress bar with tqdm\n",
    "for i in tqdm(range(total_iterations), desc='Processing', unit='iteration'):\n",
    "    new_answer.append(dataset[\"test\"][\"choices\"][i][dataset[\"test\"][\"answer\"][i]])"
   ]
  },
  {
   "cell_type": "code",
   "execution_count": 7,
   "id": "c1fb65be",
   "metadata": {},
   "outputs": [],
   "source": [
    "new_questions = dataset[\"test\"][\"question\"]"
   ]
  },
  {
   "cell_type": "code",
   "execution_count": 8,
   "id": "73fbd2a6",
   "metadata": {},
   "outputs": [
    {
     "data": {
      "text/plain": [
       "'What is essential for diagnosis of arenavirus infection?'"
      ]
     },
     "execution_count": 8,
     "metadata": {},
     "output_type": "execute_result"
    }
   ],
   "source": [
    "dataset[\"validation\"][\"question\"][0]"
   ]
  },
  {
   "cell_type": "code",
   "execution_count": 9,
   "id": "eab60273",
   "metadata": {},
   "outputs": [
    {
     "name": "stderr",
     "output_type": "stream",
     "text": [
      "Processing: 100%|██████████████████████| 18/18 [00:00<00:00, 1645.51iteration/s]\n"
     ]
    }
   ],
   "source": [
    "total_iterations = len(dataset['validation'])\n",
    "\n",
    "# Create a progress bar with tqdm\n",
    "for i in tqdm(range(total_iterations), desc='Processing', unit='iteration'):\n",
    "    new_answer.append(dataset[\"validation\"][\"choices\"][i][dataset[\"validation\"][\"answer\"][i]])\n",
    "    new_questions.append(dataset[\"validation\"][\"question\"][i])"
   ]
  },
  {
   "cell_type": "code",
   "execution_count": 10,
   "id": "8346ca1e",
   "metadata": {},
   "outputs": [
    {
     "name": "stderr",
     "output_type": "stream",
     "text": [
      "Processing: 100%|████████████████████████| 5/5 [00:00<00:00, 3190.56iteration/s]\n"
     ]
    }
   ],
   "source": [
    "total_iterations = len(dataset['dev'])\n",
    "\n",
    "# Create a progress bar with tqdm\n",
    "for i in tqdm(range(total_iterations), desc='Processing', unit='iteration'):\n",
    "    new_answer.append(dataset[\"dev\"][\"choices\"][i][dataset[\"dev\"][\"answer\"][i]])\n",
    "    new_questions.append(dataset[\"dev\"][\"question\"][i])"
   ]
  },
  {
   "cell_type": "code",
   "execution_count": 11,
   "id": "3e8e376e",
   "metadata": {},
   "outputs": [],
   "source": [
    "my_dict = {key: value for key, value in zip(new_questions, new_answer)}"
   ]
  },
  {
   "cell_type": "code",
   "execution_count": 12,
   "id": "348530b5",
   "metadata": {},
   "outputs": [
    {
     "data": {
      "text/plain": [
       "{'How many human polyomaviruses are known at present?': '100',\n",
       " 'AIDS activism in the U.S. resulted in:': 'All of the above',\n",
       " 'Globally, the most deaths are caused by:': 'Diarrheal diseases',\n",
       " \"What happens during the 'incubation period'?\": 'Virus replication happens at an intracellular level',\n",
       " 'Newborn infants in countries with limited access to safe water and low levels of education should be:': 'Exclusively breast fed for six months',\n",
       " 'Achieving effective change in a community is usually dependent on which of the following segments of society?': 'Innovators',\n",
       " '“Contingency management” is”:': 'Paying drug users for negative urine specimens',\n",
       " 'Typical clinical symptoms following infection with astroviruses include which of the following?': 'Gastroenteritis in children',\n",
       " 'Which of the following is the most special characteristic of the adaptive immune system?': 'Clonal expansion of pre-existing antibodies and/or T cells',\n",
       " 'Chemotherapy is now an option for clinical care of patients. Typical drug regimens now include which of the following?': 'Lamivudine and ribavirin',\n",
       " 'There were no new cases of Ebola virus in the United States from January 1, 1997 through January 1, 1998. Which of the following epidemiologic terms does this statement describe?': 'Lifetime prevalence',\n",
       " 'How were retroviruses discovered?': 'In mice causing leukaemia',\n",
       " 'Most surveillance systems use which of the following study designs?': 'Serial cross-sectional',\n",
       " 'Polio can be eradicated by which of the following?': 'Attention to sewage control and hygiene',\n",
       " 'Public health ethics is:': 'Population-centered',\n",
       " 'How many people globally are currently infected with hepatitis B?': '350 million',\n",
       " 'In a study, a group of people are exposed to an environmental toxin but are not treated observed over time on a standard set of measures to ascertain the potential effects of the toxin. This type of study design is called': 'Prospective cohort',\n",
       " 'Which disease do polyomaviruses predominantly cause?': 'No disease at all',\n",
       " 'How are antibody producing cells stimulated?': 'Interacting with a T helper cell.',\n",
       " 'The single most important key to the success of the Multicenter AIDS Cohort (MACS) is:': 'The commitment of the participants',\n",
       " 'Picornavirus replication as a positive strand RNA virus is particularly typified by which of the following?': 'The virion RNA acting as mRNA',\n",
       " 'Why are members of the astrovirus family only recently recognised as significant enteric viruses for humans?': 'The genome has been identified by the new method of deep sequencing',\n",
       " 'Which virus infection was not first identified by clinical observation?': 'Hepatitis C',\n",
       " 'The particular quality of the U.S. health care system is its:': 'Fragmented, uncoordinated approach',\n",
       " 'The three key intervention strategies according to Professor Shoptaw are:': 'Behavioral intervention, treatment and structural interventions',\n",
       " 'Measles has been controlled in many countries by which of the following?': 'By MMR vaccine',\n",
       " 'How can the spread of filoviruses be restricted?': 'Hygiene and social distancing',\n",
       " 'Most pandemics have arisen from influenza viruses from which of the following animals?': 'Pigs',\n",
       " 'PreP is an effective strategy for reducing the incidence of HIV in:': 'Drug users',\n",
       " 'The replication of hepatitis B includes which of the following stages?': 'Virions produced in the cytoplasm by cellular DNA polymerase',\n",
       " 'How does the papilloma family of viruses cause cancer?': 'Integrates viral genome into cellular DNA',\n",
       " 'The noroviruses typically cause which of the following?': 'Projectile vomiting and diarrhoea',\n",
       " 'Deep nucleotide sequencing (NGS) is now cheap enough for general application. What will the technique mainly be useful for?': 'Quickly identifying new viruses',\n",
       " 'Determinants of acquiring an HIV infection from an infected person per sexual act include:': 'All of the above',\n",
       " 'How is next generation sequencing (NGS) most often used?': 'Cannot be used',\n",
       " 'Which of the following HPV viruses are known to cause cervical cancer?': 'None are oncogenic per se',\n",
       " 'Which member of the paramyxovirus family can cause very serious croup?': 'Meta pneumo virus',\n",
       " 'Which of the following is the cause of delay in HIV testing among the Latino population?': 'All of the above',\n",
       " 'Describe the morphology of a togavirus.': 'Enveloped spherical particles with an icosahedral structure',\n",
       " 'A good surveillance system should provide information about:': 'All of the above',\n",
       " 'What has so far prevented polio being eradicated from the world?': 'Inability to vaccinate in some countries',\n",
       " 'The range of disease caused by the family is wide but identify the exception from the following:': 'Aplastic crisis in anaemia patients',\n",
       " 'Which of the following drugs inhibit herpes viruses?': 'Azidothymidine',\n",
       " 'The three countries with the most drug injectors are:': 'China, the U.S. and Russia',\n",
       " 'Officials at a large community hospital report an increased incidence of acute lymphocytic leukemia (ALL) among children aged 5 – 12. They point out that some households in the community are exposed to chemical waste from a nearby factory. They believe that chemical waste causes leukemia. If a study is designed to evaluate the hospital officials’ claim, which of the following subjects are most likely to comprise the control group?': 'Children not exposed to the chemical waste who do not suffer from ALL',\n",
       " 'Lassa and Ebola are emergent viruses in W. Africa. What is their origin?': 'Primates',\n",
       " 'Antivirals can be used prophylactically or therapeutically in persons in which of the following circumstances?': 'Used for the obese',\n",
       " 'Papillomaviruses cause warts and cancer but how do they most often infect humans?': 'Via scratches and breaks in the skin',\n",
       " 'There are 57 serotypes of adenovirus currently recognised. Which has the most important clinical impact?': 'Respiratory tract infections',\n",
       " 'How are new polyomaviruses detailed': 'Shot gun sequencing',\n",
       " 'Describe the YF vaccine.': 'Live attenuated virus vaccine developed by Pasteurian passage',\n",
       " 'What is the biggest risk factor for infection with Ebola?': 'Working in a category IV laboratory',\n",
       " 'The influenza virus is mainly controlled in special \"risk\" sectors by:': 'Vaccination',\n",
       " 'A case-control study is conducted to assess the association between alcohol consumption and lung cancer patients with lung cancer and 100 controls are asked about their past alcohol consumption. According to the study results, alcohol consumption is strongly associated with lung cancer (OR = 2.5). The researchers then divide the study subjects into two groups: smokers and non-smokers. Subsequent statistical analysis does not reveal any association between alcohol consumption and lung cancer within either group. The scenario described is an example of which of the following?': 'Confounding',\n",
       " 'How are arenaviruses spread?': 'Sexual contact',\n",
       " 'Which areas of the world are rabies free?': 'Island nations, UK, NZ and Australia',\n",
       " 'The risk of perinatal transmission of HIV-1 infection during breast feeding is increased due to:': 'Both a and b',\n",
       " 'How is the parvovirus family targeted to reduce disease?': 'Transfusion blood is screened',\n",
       " 'Who discovered the first virus?': 'The botanist Dmitri Iwanowsky',\n",
       " 'Structural interventions typically target:': 'All of the above',\n",
       " 'What is the main clinical picture of hepatitis A?': 'Jaundice and abdominal discomfort',\n",
       " 'If the human norovirus cannot be cultured in cell cultures how can it best be studied?': 'Volunteer studies',\n",
       " 'Any systematic error in the design, conduct, or analysis of a study that results in a mistaken estimate of an exposure’s effect on the risk of disease is called:': 'Interaction',\n",
       " 'Describe the coronavirus structure.': 'An icosahedral large pleomorphic virus',\n",
       " 'SARS is described as a zoonotic virus - what does this mean?': 'Such viruses are confined to animals',\n",
       " \"Which of the following coronaviruses has caused thousands of deaths around the world as an 'emergent' virus?\": 'MERS',\n",
       " 'Clinical infection by an arenavirus is characterised by which one of the following?': 'Pantropic infection',\n",
       " 'How does rubella cause foetal abnormalities?': 'By crossing the placenta early in pregnancy and infecting the foetus',\n",
       " 'Which of the following is an unusual feature of the replication cycle in coronaviruses?': 'They take advantage of recombination with the long RNA genome',\n",
       " 'Which replication strategy is paralleled by some other viruses?': 'Extracellular replication',\n",
       " 'The characteristic of a generalized epidemic is:': 'High rates in pregnant women',\n",
       " 'An updated version of classification shows the parvovirus family as having how many genera?': 'A very large number of virus types',\n",
       " 'The largest Latino community in the U.S. is:': 'Mexican',\n",
       " 'How can epidemics of astrovirus mainly be controlled?': 'Basic knowledge of hand washing and food hygiene',\n",
       " '500 women aged 40 – 54 who present for routine check-ups are asked about their meat consumption the women turn out to be vegetarian. During the ensuing 5 years, 5 vegetarians and 43 non-vegetarians develop colorectal cancer. Which of the following best describes the study design?': 'Case series report',\n",
       " 'In the absence of treatment the risk of HIV transmission from an infected mother to her fetus/infant was highest in which of the following areas?': 'Africa',\n",
       " 'Poliovirus can most easily become more virulent by which of the following processes?': 'Mutation of the RNA genome at only a few positions',\n",
       " 'A virus such as influenza which emerges suddenly and spreads globally is called:': 'Endemic',\n",
       " 'Of the following factors, which are the most important factors for virus spread and infection?': 'Travel',\n",
       " 'How do viruses of the calcivirus family replicate?': 'As positive strand RNA viruses',\n",
       " 'The parvoviruses have a rather unique genome; what form does it take?': 'RNA genome with RT',\n",
       " 'How can the morphology of filoviruses be described?': 'Icosahedral virion',\n",
       " \"What is the usual direction of 'knowledge' in a cell?\": 'From DNA to RNA to protein',\n",
       " 'Why are drug combinations essential for HIV?': 'Combinations of antibiotics are effective versus TB',\n",
       " 'Many virus infections result in immune pathology, this is caused predominantly by which of the following?': 'A cytokine storm',\n",
       " 'David Baltimore is a molecular biologist. What did he discover?': 'The enzyme reverse transcriptase',\n",
       " 'Identify the most commonly used diagnostic technique in the virus laboratory:': 'Deep sequencing (NGS)',\n",
       " 'The major risk group for HIV infection among Latinos is:': 'Homosexual males',\n",
       " 'In HIV-associated tuberculosis cases, treatment with antiretrovirals should begin:': 'Concurrently with antiretroviral drugs',\n",
       " 'A “benefit” of research may accrue:': 'All of the above',\n",
       " 'What is the current best option for preventing future outbreaks of Ebola?': 'Arrange rapid intervention into West Africa with EU and USA army teams',\n",
       " 'Where are arenaviruses predominately located in the world?': 'SE Asia',\n",
       " 'The most important element of ethical research on human subjects is:': 'Informed consent',\n",
       " 'The characteristic of injecting drug users in Asia is/are:': 'Both a and c',\n",
       " 'Viruses have encouraged us to change our world, as we have now:': 'Eradicated smallpox',\n",
       " 'What is the most important factor for virus classification?': 'Chemistry of the DNA and RNA',\n",
       " 'The major issue for HIV infection among the Latino population is:': 'All of the above',\n",
       " 'Disease can most often be prevented by which of the following:': 'Vaccines',\n",
       " 'Results of surveillance should be distributed to:': 'All of the above',\n",
       " 'Which is a major characteristic of the bunyavirus family?': 'Amplify by persistent infection of midgets, mosquitoes, sand flies, ticks',\n",
       " 'The group that permits analysis of the entire natural history of HIV/AIDS is:': 'Seroconverters',\n",
       " 'The chance of acquiring HIV infection from factor VIII in the United States in 2011 is 0% primarily because:': 'Factor VIII is made synthetically',\n",
       " 'The prevalence of HIV among Latino-Americans compared to other ethic groups in the U.S. is:': 'Higher than all other ethnic groups except African-Americans',\n",
       " 'What is the rubella syndrome?': 'The teratogenic lesions of cataracts, deafness, mental retardation and microcephaly in the foetus',\n",
       " 'What is the most common way for a virus to kill a cell?': 'Induces apoptosis via caspases',\n",
       " 'The influenza virus has complicated genetics mainly characterised by which of the following?': 'High levels of recombination',\n",
       " 'The highest risk of HIV infection among drug users in the U.S. is in:': 'The east coast',\n",
       " 'A study is conducted to assess the relationship between race and end-stage renal disease pathologists independently study specimens from 1,000 kidney biopsies. The first group of pathologists is aware of the race of the patient from whom the biopsy came, while the second group is blinded as to the patient’s race. The first group reports ‘hypertensive nephropathy’ much more frequently for black patients than the second group. Which of the following types of bias is most likely present in this study?': 'Confounding',\n",
       " 'What is urban yellow fever (YF)?': 'Part of a cycle of mosquitoes biting humans in cities',\n",
       " 'The current testing policy of the Centers for Disease Control and the World Health Organization is:': '“Opt-out”',\n",
       " 'Common cold viruses are ubiquitous and invade by which route?': 'Respiratory and surface route',\n",
       " 'Assembly is a vital late replication stage for a virus and is often accomplished by which of the following?': 'Use of cellular scaffolding in the nucleus and cytoplasm',\n",
       " 'The biggest single determinant of HIV transmission to the infant is:': 'Mother’s viral load',\n",
       " 'What does the reproductive number of a virus tell us?': 'How many contacts will be infected from one case',\n",
       " 'PreP is most effective for which group:': 'Men with frequent unprotected sex',\n",
       " 'A special feature of adaptive immunity is:': 'Ability to distinguish self and non self',\n",
       " 'As regards the range of diseases caused by viruses:': 'Members of many families can cause the same sort of disease.',\n",
       " 'Which is the exception in the following range of disease symptoms caused by bunyaviruses?': 'Impaired renal function',\n",
       " 'There is no vaccine against HIV because of which of the following?': 'Such a vaccine would be too expensive',\n",
       " 'The requirements for an effective surveillance system include:': 'All of the above',\n",
       " 'MERS has four special characteristics and here we have one exception - which is it?': 'Reservoir in bats',\n",
       " 'The major beneficiary of Medicaid in the U.S. is:': 'Women and children',\n",
       " 'Which of the following is the most important for controlling disease caused by norovirus?': 'Attention to handwashing and hygiene',\n",
       " 'Why do vigorous CD8 cell responses in chronically infected HIV-positive individuals fail to eliminate the virus?': 'Epitope escape',\n",
       " 'The most widespread and important retrovirus is HIV-1; which of the following is true?': 'Infecting only gay people',\n",
       " 'The first acquired immune cell to respond defensively to HIV infection is:': 'CD8+',\n",
       " 'Which of the following is a special feature of the rabies vaccine?': 'The original air dried spinal cord of infected rabbits was a killed vaccine',\n",
       " 'Most viral vaccines are produced by which of the following techniques?': 'Molecular biology',\n",
       " 'The treatment of hepatitis C has been revolutionised most recently by which of the following?': 'The use of interferon',\n",
       " 'Chikungunya has spread widely from Asia and Africa into the Caribbean in recent years. This has been mainly facilitated by:': 'Mutation in the virus allowing replication in the mosquito Aedes albopictus',\n",
       " 'The successful anti-cancer HPV vaccine consists of:': 'Live virus attenuated by specific mutagenesis',\n",
       " 'The rotavirus is an important cause of which of the following?': 'Gastroenteritis in children',\n",
       " 'The surveillance testing strategy associated with the least selection bias is:': 'Compulsory',\n",
       " 'In a medical class of 147 students, the distribution of scores on a biochemistry final examination has a mean equal to 67, a median equal to 76, a mode equal to 80, a standard deviation equal to 5.5, and a variance equal to 30.25. Three students were unable to take the test on the scheduled date and were given a different form of the exam 1 week later. Which parameter is most likely to be the least biased estimator of central tendency for this distribution of biochemistry test scores?': 'Mean',\n",
       " 'What disease do herpes viruses not cause?': 'Infantile paralysis',\n",
       " 'The purpose of a double-blind or double-masked study is to:': 'Reduce the effects of sampling variation',\n",
       " 'Nipah is a zoonotic paramyxovirus; where did it originate?': 'Coming from humans',\n",
       " 'What is the genome structure of the polyomavirus family?': 'RNA genome with RT',\n",
       " 'Interferons are very special defence mechanisms which operate by:': 'Binding to neighbouring cells',\n",
       " 'Genetic characteristics of the bunyavirus family include which one of the following?': 'Three segmented negative stranded RNA viruses with anti-sense expression',\n",
       " 'The basic code of ethical research (respect for persons, beneficence, and justice) was first established by the:': 'Belmont Report',\n",
       " 'The paramyxovirus family employ what strategy at virus entry?': 'A fusion mediated by M protein',\n",
       " 'The risk of acquiring HIV from a unit of blood in the United States is now:': '1 per 2 million units',\n",
       " 'What is the essential pathology of astroviruses?': 'Very restricted replication in the gut',\n",
       " 'Which of the following are goals of vaccination?': 'All of the above',\n",
       " 'Randomization of study subjects in a clinical trial is most helpful for controlling for which of the following?': 'Placebo effect',\n",
       " 'A quasi species virus such as influenza and HIV has which of the following characteristics?': 'Co-existence of innumerable genetic variants',\n",
       " 'Positive stranded RNA viruses have which of the following characteristics?': 'Their genome RNA can be translated directly as mRNA',\n",
       " 'What is the genetic structure of rotavirus?': 'RNA virus with RT',\n",
       " 'Are/were viruses:': 'The most abundant form of life on earth?',\n",
       " \"It is unlikely that a 'cure' of HIV is possible with current drugs because:\": 'They do not penetrate to cells',\n",
       " 'Which viruses appear to be hypermutable?': 'RNA viruses',\n",
       " 'How are herpes infections controlled?': 'Chemotherapy',\n",
       " 'A new drug with in vitro activity against HIV is tested on a population of patients with Western-blot confirmed HIV infections. Out of the 200 individuals in the patient population, 100 are chosen by lottery to receive the drug. The drug, which is tasteless, is administered in a cup of orange juice; the other patients receive pure orange juice. Neither the nurses, doctors, nor the patients know which patients receive the drug. At the end of the study period, the number of CD4+ T cells is determined for all of the subjects. This is an example of a': 'Case-control study',\n",
       " \"What is the most successful and most widely used 'travel' vaccine for international visitors?\": 'MMR',\n",
       " 'What is a virus pandemic?': 'A rapid global outbreak starting from a single focus',\n",
       " 'Benefits of opioid replacement therapy as an approach for HIV prevention include:': 'Both a and c',\n",
       " 'Papilloma viruses are characterised by what genetic feature?': 'A genome of ds circular DNA encoding around 8 ORF',\n",
       " 'As part of the Women’s Health Study, researchers investigated the role of systemic inflammation in predicting cardiovascular disease in women (N Engl J Med. 2002;347[20]:1557-1565). Researchers used a prospective study design with a large sample size. Blood levels of C-reactive protein (CRP) were measured at baseline and women were followed for an average of 8 years. The following table shows the relative risk estimates of cardiovascular event (heart attack or stroke) within 5 years by quintile of CRP level for the 30,000 women. The first quintile is used as the reference category.  1 0.49 mg/dL Relative Risk Number of women  1.0 6000  2 >0.49-1.08 mg/dL 1.8 6000  Quintile of CRP Level 3 >1.08-2.09 mg/dL 2.3 6000  4 >2.09-4.19 mg/dL 3.2 6000  5 >4.19 mg/dL 4.5 6000  Based on the relative risk data above, one can conclude:': 'There is no risk of heart attack/stroke for women with CRP levels in the first quintile.',\n",
       " 'What is the morphology of the Dane particle?': 'Flexuous and filamentous morphology',\n",
       " 'The adenovirus virion has which unique structural feature?': 'Icosahedron with slender fibres',\n",
       " 'A city has a population of 250,000 cases and 400 deaths each year from this disease. There are 2,500 deaths per year from all causes. The prevalence of this disease is given by': '2,500/250,000',\n",
       " 'Which unique form does the rabies virus take?': 'The virion is very pleomorphic',\n",
       " 'Which of the following diseases is not caused by togaviruses?': 'Yellow Fever',\n",
       " 'Why are the viruses of this family called astroviruses?': \"The superficial appearance of a 'star' on negative straining electron microscopy\",\n",
       " 'Why do emerging viruses like Zika and Ebola continue to plague us?': 'We disturb forests where they quietly exist as a zoonosis',\n",
       " 'What is essential for diagnosis of arenavirus infection?': 'RT PCR kit',\n",
       " 'At a specific hospital, patients diagnosed with pancreatic carcinoma are asked about their current smoking status. At the same hospital, patients without pancreatic carcinoma are also asked about their current smoking status. The following table is constructed.  Smokers Non-smokers Total  Pancreatic Cancer 50 40 90  No Pancreatic Cancer 60 80 140  Total 110 120 230  What is the odds ratio that a patient diagnosed with pancreatic cancer is a current smoker compared to a patient without pancreatic cancer?': '(50/90)/(60/140)',\n",
       " 'Some facts about viruses: identify the incorrect fact:': 'The first viruses came from outer space',\n",
       " '“Test and treat” depends on:': 'All of the above',\n",
       " 'Cytotoxic T cells can be activated via which of the following?': 'By identifying virus peptides presented by MHC-I',\n",
       " 'In a survey of 10,000 IV drug users in town A, 1,000 turn out to be infected with hepatitis follow-up, 100 patients with hepatitis C infection die. Also during follow-up, 100 IV drug users acquire hepatitis C. Which of the following is the best estimate of the annual incidence of hepatitis C infection in IV drug users in town A?': '1,100/10,000',\n",
       " 'Genetically the flaviviruses are positive stranded and have which of the following properties?': 'ssRNA viruses with capped and polyadenylated RNA',\n",
       " 'The primary goal of public health is to:': 'Protect the uninfected',\n",
       " 'What is the morphology of the herpes virion?': 'Compact icosahedron structure',\n",
       " 'An investigator suspects that acetaminophen use during the first trimester of pregnancy can cause neural tube defects. She estimates the risk of neural tube defect in the general population is 1:1,000. Which of the following is the best study design to investigate the hypothesis?': 'Ecologic Study',\n",
       " 'Viruses of different families have varied geometric structures. Which of the following is true?': 'Virus nucleocapsids are either icosahedral or helical',\n",
       " 'What percentage of the population have antibodies to the polyomavirus family': '90%',\n",
       " 'In MSM, early syphilis was found to be associated with:': 'All of the above',\n",
       " 'Which of the following was a major discovery of molecular biology when the adenovirus replication strategy was uncovered?': 'Mechanism of replication of DNA',\n",
       " 'An observational study in diabetics assesses the role of an increased plasma fibrinogen level on the risk of cardiac events. 130 diabetic patients are followed for 5 years to assess the development of acute coronary syndrome. In the group of 60 patients with a normal baseline plasma fibrinogen level, 20 develop acute coronary syndrome and 40 do not. In the group of 70 patients with a high baseline plasma fibrinogen level, 40 develop acute coronary syndrome and 30 do not. Which of the following is the best estimate of relative risk in patients with a high baseline plasma fibrinogen level compared to patients with a normal baseline plasma fibrinogen level?': '(40*70)/(20*60)',\n",
       " 'Which clinical sample is used to diagnose hepatitis B?': 'Liver biopsy',\n",
       " 'Which point in the replication cycle appears most easily blocked by antivirals?': 'Virus RNA and DNA replication',\n",
       " 'What is virus attenuation in practical terms for successful vaccine discovery?': 'Direct random mutagenesis to create a less virulent mutant',\n",
       " 'Why are parvoviruses a highly impactful parasite?': 'Because they have no nucleic acid',\n",
       " 'Which of the following is a morphological characteristic of the paramyxoviruses.': 'Fragile viruses often visualised with RNA spewing from the inside',\n",
       " 'A key factor facilitating the application of nested case-control studies from the MACS was:': 'Establishment of a repository of biologic specimens',\n",
       " 'The most important goal of a behavioral intervention is:': 'Sustained behavior change',\n",
       " 'The median survival time to AIDS and death was established by following:': 'Seroconverters'}"
      ]
     },
     "execution_count": 12,
     "metadata": {},
     "output_type": "execute_result"
    }
   ],
   "source": [
    "my_dict"
   ]
  },
  {
   "cell_type": "code",
   "execution_count": 13,
   "id": "137c89e4",
   "metadata": {},
   "outputs": [
    {
     "data": {
      "text/plain": [
       "189"
      ]
     },
     "execution_count": 13,
     "metadata": {},
     "output_type": "execute_result"
    }
   ],
   "source": [
    "len(my_dict)"
   ]
  },
  {
   "cell_type": "code",
   "execution_count": 14,
   "id": "efb59afc",
   "metadata": {},
   "outputs": [],
   "source": [
    "import json\n",
    "\n",
    "file_path = \"Data/\" + subsets[j] + \".json\"\n",
    "with open(file_path, 'w') as json_file:\n",
    "    json.dump(my_dict, json_file)"
   ]
  },
  {
   "cell_type": "code",
   "execution_count": 15,
   "id": "dbba274b",
   "metadata": {},
   "outputs": [
    {
     "data": {
      "text/plain": [
       "'virology'"
      ]
     },
     "execution_count": 15,
     "metadata": {},
     "output_type": "execute_result"
    }
   ],
   "source": [
    "subsets[j]"
   ]
  },
  {
   "cell_type": "code",
   "execution_count": 16,
   "id": "07aceeb0",
   "metadata": {},
   "outputs": [
    {
     "data": {
      "text/plain": [
       "10"
      ]
     },
     "execution_count": 16,
     "metadata": {},
     "output_type": "execute_result"
    }
   ],
   "source": [
    "len(subsets)"
   ]
  },
  {
   "cell_type": "code",
   "execution_count": null,
   "id": "96871079",
   "metadata": {},
   "outputs": [],
   "source": []
  }
 ],
 "metadata": {
  "kernelspec": {
   "display_name": "transformers_env",
   "language": "python",
   "name": "transformers_env"
  },
  "language_info": {
   "codemirror_mode": {
    "name": "ipython",
    "version": 3
   },
   "file_extension": ".py",
   "mimetype": "text/x-python",
   "name": "python",
   "nbconvert_exporter": "python",
   "pygments_lexer": "ipython3",
   "version": "3.9.12"
  }
 },
 "nbformat": 4,
 "nbformat_minor": 5
}
