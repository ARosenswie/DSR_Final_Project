{
 "cells": [
  {
   "cell_type": "code",
   "execution_count": null,
   "metadata": {
    "id": "jgeY_Hg10Xoa"
   },
   "outputs": [],
   "source": [
    "!pip install llama-index==0.5.6\n",
    "!pip install langchain==0.0.148"
   ]
  },
  {
   "cell_type": "code",
   "execution_count": null,
   "metadata": {
    "id": "vKgLJ0X90hpg"
   },
   "outputs": [],
   "source": [
    "from llama_index import SimpleDirectoryReader, GPTListIndex, readers, GPTSimpleVectorIndex, LLMPredictor, PromptHelper, ServiceContext\n",
    "from langchain import OpenAI\n",
    "import sys\n",
    "import os\n",
    "from IPython.display import Markdown, display\n",
    "from sklearn.metrics import precision_score, recall_score, f1_score\n",
    "\n",
    "def construct_index(directory_path):\n",
    "    # set maximum input size\n",
    "    max_input_size = 4096\n",
    "    # set number of output tokens\n",
    "    num_outputs = 2000\n",
    "    # set maximum chunk overlap\n",
    "    max_chunk_overlap = 20\n",
    "    # set chunk size limit\n",
    "    chunk_size_limit = 600\n",
    "\n",
    "    # define prompt helper\n",
    "    prompt_helper = PromptHelper(max_input_size, num_outputs, max_chunk_overlap, chunk_size_limit=chunk_size_limit)\n",
    "\n",
    "    # define LLM\n",
    "    llm_predictor = LLMPredictor(llm=OpenAI(temperature=1.5, model_name=\"text-davinci-003\", max_tokens=num_outputs))\n",
    "\n",
    "    documents = SimpleDirectoryReader(directory_path).load_data()\n",
    "\n",
    "    service_context = ServiceContext.from_defaults(llm_predictor=llm_predictor, prompt_helper=prompt_helper)\n",
    "    index = GPTSimpleVectorIndex.from_documents(documents, service_context=service_context)\n",
    "\n",
    "    index.save_to_disk('index.json')\n",
    "\n",
    "    return index\n",
    "\n",
    "def ask_ai(index):\n",
    "    index = GPTSimpleVectorIndex.load_from_disk('index.json')\n",
    "    while True:\n",
    "        query = input(\"What do you want to ask? \")\n",
    "        response = index.query(query)\n",
    "        display(Markdown(f\"{response.response}\"))\n"
   ]
  },
  {
   "cell_type": "code",
   "execution_count": null,
   "metadata": {
    "id": "4SDULNQ31wx5"
   },
   "outputs": [],
   "source": [
    "def evaluate(index):\n",
    "    # Load a labeled dataset with questions and correct answers\n",
    "    test_questions = [\n",
    "        (\"Question 1\", \"Correct Answer 1\"),\n",
    "        (\"Question 2\", \"Correct Answer 2\"),\n",
    "        # Add more questions and correct answers as needed\n",
    "    ]\n",
    "\n",
    "    predicted_answers = []\n",
    "    correct_answers = []\n",
    "\n",
    "    for question, correct_answer in test_questions:\n",
    "        response = index.query(question)\n",
    "        predicted_answer = response.response\n",
    "        predicted_answers.append(predicted_answer)\n",
    "        correct_answers.append(correct_answer)\n",
    "\n",
    "    # Compute evaluation metrics\n",
    "    accuracy = sum(1 for pred, gt in zip(predicted_answers, correct_answers) if pred == gt) /len(test_questions)\n",
    "    precision = precision_score(correct_answers, predicted_answers, average='macro')\n",
    "    recall = recall_score(correct_answers, predicted_answers, average='macro')\n",
    "    f1 = f1_score(correct_answers, predicted_answers, average='macro')\n",
    "\n",
    "    print(\"Evaluation Metrics:\")\n",
    "    print(f\"Accuracy: {accuracy}\")\n",
    "    print(f\"Precision: {precision}\")\n",
    "    print(f\"Recall: {recall}\")\n",
    "    print(f\"F1-Score: {f1}\")\n"
   ]
  },
  {
   "cell_type": "code",
   "execution_count": null,
   "metadata": {
    "id": "09JdL8lS2qJY"
   },
   "outputs": [],
   "source": [
    "os.environ[\"OPENAI_API_KEY\"] = input(\"Enter OpenAI key:\")"
   ]
  },
  {
   "cell_type": "code",
   "execution_count": null,
   "metadata": {
    "id": "296JOUNZ2xNC"
   },
   "outputs": [],
   "source": [
    "index = construct_index(\"./example_data_folder\")"
   ]
  },
  {
   "cell_type": "code",
   "execution_count": null,
   "metadata": {
    "id": "u-rGvhBn27Nf"
   },
   "outputs": [],
   "source": [
    "ask_ai(index)"
   ]
  },
  {
   "cell_type": "code",
   "execution_count": null,
   "metadata": {
    "id": "y8ZzL61Z3QHR"
   },
   "outputs": [],
   "source": [
    "evaluate(index)"
   ]
  }
 ],
 "metadata": {
  "colab": {
   "provenance": []
  },
  "kernelspec": {
   "display_name": "Python 3 (ipykernel)",
   "language": "python",
   "name": "python3"
  },
  "language_info": {
   "codemirror_mode": {
    "name": "ipython",
    "version": 3
   },
   "file_extension": ".py",
   "mimetype": "text/x-python",
   "name": "python",
   "nbconvert_exporter": "python",
   "pygments_lexer": "ipython3",
   "version": "3.9.12"
  }
 },
 "nbformat": 4,
 "nbformat_minor": 1
}
