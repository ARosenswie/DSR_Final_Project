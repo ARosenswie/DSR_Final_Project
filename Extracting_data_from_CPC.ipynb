{
  "nbformat": 4,
  "nbformat_minor": 0,
  "metadata": {
    "colab": {
      "provenance": []
    },
    "kernelspec": {
      "name": "python3",
      "display_name": "Python 3"
    },
    "language_info": {
      "name": "python"
    }
  },
  "cells": [
    {
      "cell_type": "markdown",
      "source": [
        "# This code extracts the information we will need from each drug"
      ],
      "metadata": {
        "id": "8K8dMcImtg9L"
      }
    },
    {
      "cell_type": "markdown",
      "source": [
        "## Importing packages"
      ],
      "metadata": {
        "id": "FjqeGi6UtplQ"
      }
    },
    {
      "cell_type": "code",
      "execution_count": null,
      "metadata": {
        "id": "klTiCVJ_lqyl"
      },
      "outputs": [],
      "source": [
        "import requests\n",
        "import pandas as pd\n",
        "import matplotlib.pyplot as plt\n",
        "import numpy as np"
      ]
    },
    {
      "cell_type": "markdown",
      "source": [
        "## Downloading the data from CPIC"
      ],
      "metadata": {
        "id": "0t2XkjfMtrts"
      }
    },
    {
      "cell_type": "code",
      "source": [
        "cpic_drug_url = \"https://api.cpicpgx.org/v1/drug\"\n",
        "cpic_recommendations_url = \"https://api.cpicpgx.org/v1/recommendation\"\n",
        "cpic_test_alert_url = \"https://api.cpicpgx.org/v1/test_alert\"\n",
        "\n",
        "def fetch_cpic_drug():\n",
        "\n",
        "    response = requests.get(cpic_drug_url)\n",
        "    data = response.json()\n",
        "\n",
        "    return data\n",
        "\n",
        "def fetch_cpic_recommendations():\n",
        "\n",
        "    response = requests.get(cpic_recommendations_url)\n",
        "    data = response.json()\n",
        "\n",
        "    return data\n",
        "\n",
        "def fetch_cpic_test_alert():\n",
        "\n",
        "    response = requests.get(cpic_test_alert_url)\n",
        "    data = response.json()\n",
        "\n",
        "    return data"
      ],
      "metadata": {
        "id": "FYPD8nZAlx_K"
      },
      "execution_count": null,
      "outputs": []
    },
    {
      "cell_type": "code",
      "source": [
        "drugs = fetch_cpic_drug()\n",
        "recommendations = fetch_cpic_recommendations()\n",
        "test_alert = fetch_cpic_test_alert()"
      ],
      "metadata": {
        "id": "Ft5uccxtl-a0"
      },
      "execution_count": null,
      "outputs": []
    },
    {
      "cell_type": "markdown",
      "source": [
        "## Saving the data as Data frames"
      ],
      "metadata": {
        "id": "obXgqH-RtwqB"
      }
    },
    {
      "cell_type": "code",
      "source": [
        "df_drugs = pd.DataFrame(drugs)\n",
        "df_recommendations = pd.DataFrame(recommendations)\n",
        "df_test_alert = pd.DataFrame(test_alert)"
      ],
      "metadata": {
        "id": "EaMi96PypfuN"
      },
      "execution_count": null,
      "outputs": []
    },
    {
      "cell_type": "markdown",
      "source": [
        "## Lok at the data frames"
      ],
      "metadata": {
        "id": "v24vxx3MuB1J"
      }
    },
    {
      "cell_type": "markdown",
      "source": [
        "### Drugs"
      ],
      "metadata": {
        "id": "b1ViEBqXuy_r"
      }
    },
    {
      "cell_type": "code",
      "source": [
        "df_drugs.head(2)"
      ],
      "metadata": {
        "id": "TNNBEo-OwayG",
        "outputId": "c1368a1c-264a-420a-be10-823a0fad63f0",
        "colab": {
          "base_uri": "https://localhost:8080/",
          "height": 112
        }
      },
      "execution_count": null,
      "outputs": [
        {
          "output_type": "execute_result",
          "data": {
            "text/plain": [
              "         drugid          name pharmgkbid rxnormid drugbankid      atcid  \\\n",
              "0  RxNorm:42347     bupropion   PA448687    42347    DB01156  [N06AX12]   \n",
              "1  RxNorm:83367  atorvastatin   PA448500    83367    DB01076  [C10AA05]   \n",
              "\n",
              "  umlscui                                          flowchart  version  \\\n",
              "0    None                                               None       64   \n",
              "1    None  https://files.cpicpgx.org/images/flow_chart/At...      135   \n",
              "\n",
              "   guidelineid  \n",
              "0          NaN  \n",
              "1     100426.0  "
            ],
            "text/html": [
              "\n",
              "  <div id=\"df-d01d7251-bc0a-476d-8571-be5a1c25f057\">\n",
              "    <div class=\"colab-df-container\">\n",
              "      <div>\n",
              "<style scoped>\n",
              "    .dataframe tbody tr th:only-of-type {\n",
              "        vertical-align: middle;\n",
              "    }\n",
              "\n",
              "    .dataframe tbody tr th {\n",
              "        vertical-align: top;\n",
              "    }\n",
              "\n",
              "    .dataframe thead th {\n",
              "        text-align: right;\n",
              "    }\n",
              "</style>\n",
              "<table border=\"1\" class=\"dataframe\">\n",
              "  <thead>\n",
              "    <tr style=\"text-align: right;\">\n",
              "      <th></th>\n",
              "      <th>drugid</th>\n",
              "      <th>name</th>\n",
              "      <th>pharmgkbid</th>\n",
              "      <th>rxnormid</th>\n",
              "      <th>drugbankid</th>\n",
              "      <th>atcid</th>\n",
              "      <th>umlscui</th>\n",
              "      <th>flowchart</th>\n",
              "      <th>version</th>\n",
              "      <th>guidelineid</th>\n",
              "    </tr>\n",
              "  </thead>\n",
              "  <tbody>\n",
              "    <tr>\n",
              "      <th>0</th>\n",
              "      <td>RxNorm:42347</td>\n",
              "      <td>bupropion</td>\n",
              "      <td>PA448687</td>\n",
              "      <td>42347</td>\n",
              "      <td>DB01156</td>\n",
              "      <td>[N06AX12]</td>\n",
              "      <td>None</td>\n",
              "      <td>None</td>\n",
              "      <td>64</td>\n",
              "      <td>NaN</td>\n",
              "    </tr>\n",
              "    <tr>\n",
              "      <th>1</th>\n",
              "      <td>RxNorm:83367</td>\n",
              "      <td>atorvastatin</td>\n",
              "      <td>PA448500</td>\n",
              "      <td>83367</td>\n",
              "      <td>DB01076</td>\n",
              "      <td>[C10AA05]</td>\n",
              "      <td>None</td>\n",
              "      <td>https://files.cpicpgx.org/images/flow_chart/At...</td>\n",
              "      <td>135</td>\n",
              "      <td>100426.0</td>\n",
              "    </tr>\n",
              "  </tbody>\n",
              "</table>\n",
              "</div>\n",
              "      <button class=\"colab-df-convert\" onclick=\"convertToInteractive('df-d01d7251-bc0a-476d-8571-be5a1c25f057')\"\n",
              "              title=\"Convert this dataframe to an interactive table.\"\n",
              "              style=\"display:none;\">\n",
              "        \n",
              "  <svg xmlns=\"http://www.w3.org/2000/svg\" height=\"24px\"viewBox=\"0 0 24 24\"\n",
              "       width=\"24px\">\n",
              "    <path d=\"M0 0h24v24H0V0z\" fill=\"none\"/>\n",
              "    <path d=\"M18.56 5.44l.94 2.06.94-2.06 2.06-.94-2.06-.94-.94-2.06-.94 2.06-2.06.94zm-11 1L8.5 8.5l.94-2.06 2.06-.94-2.06-.94L8.5 2.5l-.94 2.06-2.06.94zm10 10l.94 2.06.94-2.06 2.06-.94-2.06-.94-.94-2.06-.94 2.06-2.06.94z\"/><path d=\"M17.41 7.96l-1.37-1.37c-.4-.4-.92-.59-1.43-.59-.52 0-1.04.2-1.43.59L10.3 9.45l-7.72 7.72c-.78.78-.78 2.05 0 2.83L4 21.41c.39.39.9.59 1.41.59.51 0 1.02-.2 1.41-.59l7.78-7.78 2.81-2.81c.8-.78.8-2.07 0-2.86zM5.41 20L4 18.59l7.72-7.72 1.47 1.35L5.41 20z\"/>\n",
              "  </svg>\n",
              "      </button>\n",
              "      \n",
              "  <style>\n",
              "    .colab-df-container {\n",
              "      display:flex;\n",
              "      flex-wrap:wrap;\n",
              "      gap: 12px;\n",
              "    }\n",
              "\n",
              "    .colab-df-convert {\n",
              "      background-color: #E8F0FE;\n",
              "      border: none;\n",
              "      border-radius: 50%;\n",
              "      cursor: pointer;\n",
              "      display: none;\n",
              "      fill: #1967D2;\n",
              "      height: 32px;\n",
              "      padding: 0 0 0 0;\n",
              "      width: 32px;\n",
              "    }\n",
              "\n",
              "    .colab-df-convert:hover {\n",
              "      background-color: #E2EBFA;\n",
              "      box-shadow: 0px 1px 2px rgba(60, 64, 67, 0.3), 0px 1px 3px 1px rgba(60, 64, 67, 0.15);\n",
              "      fill: #174EA6;\n",
              "    }\n",
              "\n",
              "    [theme=dark] .colab-df-convert {\n",
              "      background-color: #3B4455;\n",
              "      fill: #D2E3FC;\n",
              "    }\n",
              "\n",
              "    [theme=dark] .colab-df-convert:hover {\n",
              "      background-color: #434B5C;\n",
              "      box-shadow: 0px 1px 3px 1px rgba(0, 0, 0, 0.15);\n",
              "      filter: drop-shadow(0px 1px 2px rgba(0, 0, 0, 0.3));\n",
              "      fill: #FFFFFF;\n",
              "    }\n",
              "  </style>\n",
              "\n",
              "      <script>\n",
              "        const buttonEl =\n",
              "          document.querySelector('#df-d01d7251-bc0a-476d-8571-be5a1c25f057 button.colab-df-convert');\n",
              "        buttonEl.style.display =\n",
              "          google.colab.kernel.accessAllowed ? 'block' : 'none';\n",
              "\n",
              "        async function convertToInteractive(key) {\n",
              "          const element = document.querySelector('#df-d01d7251-bc0a-476d-8571-be5a1c25f057');\n",
              "          const dataTable =\n",
              "            await google.colab.kernel.invokeFunction('convertToInteractive',\n",
              "                                                     [key], {});\n",
              "          if (!dataTable) return;\n",
              "\n",
              "          const docLinkHtml = 'Like what you see? Visit the ' +\n",
              "            '<a target=\"_blank\" href=https://colab.research.google.com/notebooks/data_table.ipynb>data table notebook</a>'\n",
              "            + ' to learn more about interactive tables.';\n",
              "          element.innerHTML = '';\n",
              "          dataTable['output_type'] = 'display_data';\n",
              "          await google.colab.output.renderOutput(dataTable, element);\n",
              "          const docLink = document.createElement('div');\n",
              "          docLink.innerHTML = docLinkHtml;\n",
              "          element.appendChild(docLink);\n",
              "        }\n",
              "      </script>\n",
              "    </div>\n",
              "  </div>\n",
              "  "
            ]
          },
          "metadata": {},
          "execution_count": 5
        }
      ]
    },
    {
      "cell_type": "code",
      "source": [
        "df_drugs.shape"
      ],
      "metadata": {
        "colab": {
          "base_uri": "https://localhost:8080/"
        },
        "id": "6jh29q--ueO7",
        "outputId": "0eefe06e-449e-4c40-d49e-487c19f83a84"
      },
      "execution_count": null,
      "outputs": [
        {
          "output_type": "execute_result",
          "data": {
            "text/plain": [
              "(316, 10)"
            ]
          },
          "metadata": {},
          "execution_count": 6
        }
      ]
    },
    {
      "cell_type": "code",
      "source": [
        "drugs_new = df_drugs[['drugid', 'name']]\n",
        "# drugid = A unique identifier for this drug in the form “source:id” where source is some outside knowledge resource and id is their identifier, primary key\n",
        "# name = The generic name for this drug, lower-cased, required"
      ],
      "metadata": {
        "id": "3aHyAkPtx4nS"
      },
      "execution_count": null,
      "outputs": []
    },
    {
      "cell_type": "markdown",
      "source": [
        "### Recomendations"
      ],
      "metadata": {
        "id": "yGPk6Q9du1uU"
      }
    },
    {
      "cell_type": "code",
      "source": [
        "df_recommendations.head(2)"
      ],
      "metadata": {
        "id": "6u_ce8JywXFq",
        "outputId": "c9ca5d02-91b5-4338-87ee-273fbb437fcb",
        "colab": {
          "base_uri": "https://localhost:8080/",
          "height": 280
        }
      },
      "execution_count": null,
      "outputs": [
        {
          "output_type": "execute_result",
          "data": {
            "text/plain": [
              "        id  guidelineid       drugid  \\\n",
              "0  3312999      2405438  RxNorm:6878   \n",
              "1  3313000      2405438  RxNorm:6878   \n",
              "\n",
              "                                      implications  \\\n",
              "0   {'G6PD': 'Low risk of acute hemolytic anemia'}   \n",
              "1  {'G6PD': 'High risk of acute hemolytic anemia'}   \n",
              "\n",
              "                       drugrecommendation classification  \\\n",
              "0  No reason to avoid ased on G6PD status         Strong   \n",
              "1                               Avoid use       Moderate   \n",
              "\n",
              "              phenotypes activityscore allelestatus              lookupkey  \\\n",
              "0     {'G6PD': 'Normal'}            {}           {}     {'G6PD': 'Normal'}   \n",
              "1  {'G6PD': 'Deficient'}            {}           {}  {'G6PD': 'Deficient'}   \n",
              "\n",
              "  population comments  version  dosinginformation  alternatedrugavailable  \\\n",
              "0    general     None        1              False                   False   \n",
              "1    general     None        1              False                   False   \n",
              "\n",
              "   otherprescribingguidance  \n",
              "0                     False  \n",
              "1                     False  "
            ],
            "text/html": [
              "\n",
              "  <div id=\"df-d684e667-b33d-4dc2-ad47-e078e699a7d5\">\n",
              "    <div class=\"colab-df-container\">\n",
              "      <div>\n",
              "<style scoped>\n",
              "    .dataframe tbody tr th:only-of-type {\n",
              "        vertical-align: middle;\n",
              "    }\n",
              "\n",
              "    .dataframe tbody tr th {\n",
              "        vertical-align: top;\n",
              "    }\n",
              "\n",
              "    .dataframe thead th {\n",
              "        text-align: right;\n",
              "    }\n",
              "</style>\n",
              "<table border=\"1\" class=\"dataframe\">\n",
              "  <thead>\n",
              "    <tr style=\"text-align: right;\">\n",
              "      <th></th>\n",
              "      <th>id</th>\n",
              "      <th>guidelineid</th>\n",
              "      <th>drugid</th>\n",
              "      <th>implications</th>\n",
              "      <th>drugrecommendation</th>\n",
              "      <th>classification</th>\n",
              "      <th>phenotypes</th>\n",
              "      <th>activityscore</th>\n",
              "      <th>allelestatus</th>\n",
              "      <th>lookupkey</th>\n",
              "      <th>population</th>\n",
              "      <th>comments</th>\n",
              "      <th>version</th>\n",
              "      <th>dosinginformation</th>\n",
              "      <th>alternatedrugavailable</th>\n",
              "      <th>otherprescribingguidance</th>\n",
              "    </tr>\n",
              "  </thead>\n",
              "  <tbody>\n",
              "    <tr>\n",
              "      <th>0</th>\n",
              "      <td>3312999</td>\n",
              "      <td>2405438</td>\n",
              "      <td>RxNorm:6878</td>\n",
              "      <td>{'G6PD': 'Low risk of acute hemolytic anemia'}</td>\n",
              "      <td>No reason to avoid ased on G6PD status</td>\n",
              "      <td>Strong</td>\n",
              "      <td>{'G6PD': 'Normal'}</td>\n",
              "      <td>{}</td>\n",
              "      <td>{}</td>\n",
              "      <td>{'G6PD': 'Normal'}</td>\n",
              "      <td>general</td>\n",
              "      <td>None</td>\n",
              "      <td>1</td>\n",
              "      <td>False</td>\n",
              "      <td>False</td>\n",
              "      <td>False</td>\n",
              "    </tr>\n",
              "    <tr>\n",
              "      <th>1</th>\n",
              "      <td>3313000</td>\n",
              "      <td>2405438</td>\n",
              "      <td>RxNorm:6878</td>\n",
              "      <td>{'G6PD': 'High risk of acute hemolytic anemia'}</td>\n",
              "      <td>Avoid use</td>\n",
              "      <td>Moderate</td>\n",
              "      <td>{'G6PD': 'Deficient'}</td>\n",
              "      <td>{}</td>\n",
              "      <td>{}</td>\n",
              "      <td>{'G6PD': 'Deficient'}</td>\n",
              "      <td>general</td>\n",
              "      <td>None</td>\n",
              "      <td>1</td>\n",
              "      <td>False</td>\n",
              "      <td>False</td>\n",
              "      <td>False</td>\n",
              "    </tr>\n",
              "  </tbody>\n",
              "</table>\n",
              "</div>\n",
              "      <button class=\"colab-df-convert\" onclick=\"convertToInteractive('df-d684e667-b33d-4dc2-ad47-e078e699a7d5')\"\n",
              "              title=\"Convert this dataframe to an interactive table.\"\n",
              "              style=\"display:none;\">\n",
              "        \n",
              "  <svg xmlns=\"http://www.w3.org/2000/svg\" height=\"24px\"viewBox=\"0 0 24 24\"\n",
              "       width=\"24px\">\n",
              "    <path d=\"M0 0h24v24H0V0z\" fill=\"none\"/>\n",
              "    <path d=\"M18.56 5.44l.94 2.06.94-2.06 2.06-.94-2.06-.94-.94-2.06-.94 2.06-2.06.94zm-11 1L8.5 8.5l.94-2.06 2.06-.94-2.06-.94L8.5 2.5l-.94 2.06-2.06.94zm10 10l.94 2.06.94-2.06 2.06-.94-2.06-.94-.94-2.06-.94 2.06-2.06.94z\"/><path d=\"M17.41 7.96l-1.37-1.37c-.4-.4-.92-.59-1.43-.59-.52 0-1.04.2-1.43.59L10.3 9.45l-7.72 7.72c-.78.78-.78 2.05 0 2.83L4 21.41c.39.39.9.59 1.41.59.51 0 1.02-.2 1.41-.59l7.78-7.78 2.81-2.81c.8-.78.8-2.07 0-2.86zM5.41 20L4 18.59l7.72-7.72 1.47 1.35L5.41 20z\"/>\n",
              "  </svg>\n",
              "      </button>\n",
              "      \n",
              "  <style>\n",
              "    .colab-df-container {\n",
              "      display:flex;\n",
              "      flex-wrap:wrap;\n",
              "      gap: 12px;\n",
              "    }\n",
              "\n",
              "    .colab-df-convert {\n",
              "      background-color: #E8F0FE;\n",
              "      border: none;\n",
              "      border-radius: 50%;\n",
              "      cursor: pointer;\n",
              "      display: none;\n",
              "      fill: #1967D2;\n",
              "      height: 32px;\n",
              "      padding: 0 0 0 0;\n",
              "      width: 32px;\n",
              "    }\n",
              "\n",
              "    .colab-df-convert:hover {\n",
              "      background-color: #E2EBFA;\n",
              "      box-shadow: 0px 1px 2px rgba(60, 64, 67, 0.3), 0px 1px 3px 1px rgba(60, 64, 67, 0.15);\n",
              "      fill: #174EA6;\n",
              "    }\n",
              "\n",
              "    [theme=dark] .colab-df-convert {\n",
              "      background-color: #3B4455;\n",
              "      fill: #D2E3FC;\n",
              "    }\n",
              "\n",
              "    [theme=dark] .colab-df-convert:hover {\n",
              "      background-color: #434B5C;\n",
              "      box-shadow: 0px 1px 3px 1px rgba(0, 0, 0, 0.15);\n",
              "      filter: drop-shadow(0px 1px 2px rgba(0, 0, 0, 0.3));\n",
              "      fill: #FFFFFF;\n",
              "    }\n",
              "  </style>\n",
              "\n",
              "      <script>\n",
              "        const buttonEl =\n",
              "          document.querySelector('#df-d684e667-b33d-4dc2-ad47-e078e699a7d5 button.colab-df-convert');\n",
              "        buttonEl.style.display =\n",
              "          google.colab.kernel.accessAllowed ? 'block' : 'none';\n",
              "\n",
              "        async function convertToInteractive(key) {\n",
              "          const element = document.querySelector('#df-d684e667-b33d-4dc2-ad47-e078e699a7d5');\n",
              "          const dataTable =\n",
              "            await google.colab.kernel.invokeFunction('convertToInteractive',\n",
              "                                                     [key], {});\n",
              "          if (!dataTable) return;\n",
              "\n",
              "          const docLinkHtml = 'Like what you see? Visit the ' +\n",
              "            '<a target=\"_blank\" href=https://colab.research.google.com/notebooks/data_table.ipynb>data table notebook</a>'\n",
              "            + ' to learn more about interactive tables.';\n",
              "          element.innerHTML = '';\n",
              "          dataTable['output_type'] = 'display_data';\n",
              "          await google.colab.output.renderOutput(dataTable, element);\n",
              "          const docLink = document.createElement('div');\n",
              "          docLink.innerHTML = docLinkHtml;\n",
              "          element.appendChild(docLink);\n",
              "        }\n",
              "      </script>\n",
              "    </div>\n",
              "  </div>\n",
              "  "
            ]
          },
          "metadata": {},
          "execution_count": 8
        }
      ]
    },
    {
      "cell_type": "code",
      "source": [
        "df_recommendations.shape"
      ],
      "metadata": {
        "colab": {
          "base_uri": "https://localhost:8080/"
        },
        "id": "c-NLTTcU--Cd",
        "outputId": "5bd03e59-d855-4162-f0aa-4f4e788c8ad5"
      },
      "execution_count": null,
      "outputs": [
        {
          "output_type": "execute_result",
          "data": {
            "text/plain": [
              "(2098, 16)"
            ]
          },
          "metadata": {},
          "execution_count": 9
        }
      ]
    },
    {
      "cell_type": "code",
      "source": [
        "recommendations_new = df_recommendations[['drugid', 'implications', 'drugrecommendation', 'classification', 'phenotypes', 'activityscore', 'allelestatus', 'lookupkey', 'comments']]\n",
        "# drugid = The drug this recommendation is for\n",
        "# implications = Implications for phenotypic measures, this is a JSON mapping of gene to implication\n",
        "# drugrecommendation = Dosing or therapeutic recommendations, depending on particular drug\n",
        "# classification = Classification of recommendations, described in supplementary meterial\n",
        "# phenotypes = Phenotypes that this recommendation applies to, this is a JSON mapping of gene to phenotype\n",
        "# activityscore = Activity score that this recommendation applies to, this is a JSON mapping of gene to score value\n",
        "# allelestatus = Whether or not an allele is present, used mainly for HLA genes, and used for recommendation lookups. This is a JSON mapping of gene to allele status (positive/negative)\n",
        "# lookupkey = A key to use for finding a specific recommendation. Made of a JSON object of gene symbol to key value. The key value can be one of phenotype, activity score, or allele status depending on the gene.\n",
        "# comments = Optional comments about the recommendation"
      ],
      "metadata": {
        "id": "WUiBIYVTv3Tp"
      },
      "execution_count": null,
      "outputs": []
    },
    {
      "cell_type": "code",
      "source": [
        "df_recommendations['dosinginformation'].value_counts()"
      ],
      "metadata": {
        "id": "0ryXoOyfxEdt",
        "outputId": "c4c4aca4-5e96-45fa-ef10-4dcc7e4ceba2",
        "colab": {
          "base_uri": "https://localhost:8080/"
        }
      },
      "execution_count": null,
      "outputs": [
        {
          "output_type": "execute_result",
          "data": {
            "text/plain": [
              "False    2098\n",
              "Name: dosinginformation, dtype: int64"
            ]
          },
          "metadata": {},
          "execution_count": 11
        }
      ]
    },
    {
      "cell_type": "code",
      "source": [
        "df_recommendations['drugrecommendation'].value_counts().head(2)"
      ],
      "metadata": {
        "id": "RMsL40S4xPdl",
        "outputId": "b7942846-955f-4c68-e0be-9938010f843f",
        "colab": {
          "base_uri": "https://localhost:8080/"
        }
      },
      "execution_count": null,
      "outputs": [
        {
          "output_type": "execute_result",
          "data": {
            "text/plain": [
              "Initiate therapy with recommended starting dose.    172\n",
              "No recommendation                                   112\n",
              "Name: drugrecommendation, dtype: int64"
            ]
          },
          "metadata": {},
          "execution_count": 12
        }
      ]
    },
    {
      "cell_type": "markdown",
      "source": [
        "### Test alert"
      ],
      "metadata": {
        "id": "-os_NxZgu49r"
      }
    },
    {
      "cell_type": "code",
      "source": [
        "df_test_alert.head(2)"
      ],
      "metadata": {
        "id": "cOX3W6tZrdnR",
        "outputId": "5278501a-8a78-4b0b-b20a-b27e368045d9",
        "colab": {
          "base_uri": "https://localhost:8080/",
          "height": 191
        }
      },
      "execution_count": null,
      "outputs": [
        {
          "output_type": "execute_result",
          "data": {
            "text/plain": [
              "        id population cdscontext            genes  \\\n",
              "0  3314556    general  Post-test  [RYR1, CACNA1S]   \n",
              "1  3314557    general  Post-test  [RYR1, CACNA1S]   \n",
              "\n",
              "                                           phenotype  \\\n",
              "0  {'RYR1': 'Uncertain Susceptibility', 'CACNA1S'...   \n",
              "1  {'RYR1': 'Malignant Hyperthermia Susceptibilit...   \n",
              "\n",
              "                       activityscore allelestatus  \\\n",
              "0  {'RYR1': 'n/a', 'CACNA1S': 'n/a'}           {}   \n",
              "1  {'RYR1': 'n/a', 'CACNA1S': 'n/a'}           {}   \n",
              "\n",
              "                                           lookupkey       drugid  \\\n",
              "0  {'RYR1': 'Uncertain Susceptibility', 'CACNA1S'...  RxNorm:5095   \n",
              "1  {'RYR1': 'Malignant Hyperthermia Susceptibilit...  RxNorm:5095   \n",
              "\n",
              "                                           alerttext  version  \n",
              "0  [Based on genotype, this patient is predicted ...        1  \n",
              "1  [Based on genotype, this patient is predicted ...        1  "
            ],
            "text/html": [
              "\n",
              "  <div id=\"df-23f59095-3ee0-440f-b6c5-485c2eb55137\">\n",
              "    <div class=\"colab-df-container\">\n",
              "      <div>\n",
              "<style scoped>\n",
              "    .dataframe tbody tr th:only-of-type {\n",
              "        vertical-align: middle;\n",
              "    }\n",
              "\n",
              "    .dataframe tbody tr th {\n",
              "        vertical-align: top;\n",
              "    }\n",
              "\n",
              "    .dataframe thead th {\n",
              "        text-align: right;\n",
              "    }\n",
              "</style>\n",
              "<table border=\"1\" class=\"dataframe\">\n",
              "  <thead>\n",
              "    <tr style=\"text-align: right;\">\n",
              "      <th></th>\n",
              "      <th>id</th>\n",
              "      <th>population</th>\n",
              "      <th>cdscontext</th>\n",
              "      <th>genes</th>\n",
              "      <th>phenotype</th>\n",
              "      <th>activityscore</th>\n",
              "      <th>allelestatus</th>\n",
              "      <th>lookupkey</th>\n",
              "      <th>drugid</th>\n",
              "      <th>alerttext</th>\n",
              "      <th>version</th>\n",
              "    </tr>\n",
              "  </thead>\n",
              "  <tbody>\n",
              "    <tr>\n",
              "      <th>0</th>\n",
              "      <td>3314556</td>\n",
              "      <td>general</td>\n",
              "      <td>Post-test</td>\n",
              "      <td>[RYR1, CACNA1S]</td>\n",
              "      <td>{'RYR1': 'Uncertain Susceptibility', 'CACNA1S'...</td>\n",
              "      <td>{'RYR1': 'n/a', 'CACNA1S': 'n/a'}</td>\n",
              "      <td>{}</td>\n",
              "      <td>{'RYR1': 'Uncertain Susceptibility', 'CACNA1S'...</td>\n",
              "      <td>RxNorm:5095</td>\n",
              "      <td>[Based on genotype, this patient is predicted ...</td>\n",
              "      <td>1</td>\n",
              "    </tr>\n",
              "    <tr>\n",
              "      <th>1</th>\n",
              "      <td>3314557</td>\n",
              "      <td>general</td>\n",
              "      <td>Post-test</td>\n",
              "      <td>[RYR1, CACNA1S]</td>\n",
              "      <td>{'RYR1': 'Malignant Hyperthermia Susceptibilit...</td>\n",
              "      <td>{'RYR1': 'n/a', 'CACNA1S': 'n/a'}</td>\n",
              "      <td>{}</td>\n",
              "      <td>{'RYR1': 'Malignant Hyperthermia Susceptibilit...</td>\n",
              "      <td>RxNorm:5095</td>\n",
              "      <td>[Based on genotype, this patient is predicted ...</td>\n",
              "      <td>1</td>\n",
              "    </tr>\n",
              "  </tbody>\n",
              "</table>\n",
              "</div>\n",
              "      <button class=\"colab-df-convert\" onclick=\"convertToInteractive('df-23f59095-3ee0-440f-b6c5-485c2eb55137')\"\n",
              "              title=\"Convert this dataframe to an interactive table.\"\n",
              "              style=\"display:none;\">\n",
              "        \n",
              "  <svg xmlns=\"http://www.w3.org/2000/svg\" height=\"24px\"viewBox=\"0 0 24 24\"\n",
              "       width=\"24px\">\n",
              "    <path d=\"M0 0h24v24H0V0z\" fill=\"none\"/>\n",
              "    <path d=\"M18.56 5.44l.94 2.06.94-2.06 2.06-.94-2.06-.94-.94-2.06-.94 2.06-2.06.94zm-11 1L8.5 8.5l.94-2.06 2.06-.94-2.06-.94L8.5 2.5l-.94 2.06-2.06.94zm10 10l.94 2.06.94-2.06 2.06-.94-2.06-.94-.94-2.06-.94 2.06-2.06.94z\"/><path d=\"M17.41 7.96l-1.37-1.37c-.4-.4-.92-.59-1.43-.59-.52 0-1.04.2-1.43.59L10.3 9.45l-7.72 7.72c-.78.78-.78 2.05 0 2.83L4 21.41c.39.39.9.59 1.41.59.51 0 1.02-.2 1.41-.59l7.78-7.78 2.81-2.81c.8-.78.8-2.07 0-2.86zM5.41 20L4 18.59l7.72-7.72 1.47 1.35L5.41 20z\"/>\n",
              "  </svg>\n",
              "      </button>\n",
              "      \n",
              "  <style>\n",
              "    .colab-df-container {\n",
              "      display:flex;\n",
              "      flex-wrap:wrap;\n",
              "      gap: 12px;\n",
              "    }\n",
              "\n",
              "    .colab-df-convert {\n",
              "      background-color: #E8F0FE;\n",
              "      border: none;\n",
              "      border-radius: 50%;\n",
              "      cursor: pointer;\n",
              "      display: none;\n",
              "      fill: #1967D2;\n",
              "      height: 32px;\n",
              "      padding: 0 0 0 0;\n",
              "      width: 32px;\n",
              "    }\n",
              "\n",
              "    .colab-df-convert:hover {\n",
              "      background-color: #E2EBFA;\n",
              "      box-shadow: 0px 1px 2px rgba(60, 64, 67, 0.3), 0px 1px 3px 1px rgba(60, 64, 67, 0.15);\n",
              "      fill: #174EA6;\n",
              "    }\n",
              "\n",
              "    [theme=dark] .colab-df-convert {\n",
              "      background-color: #3B4455;\n",
              "      fill: #D2E3FC;\n",
              "    }\n",
              "\n",
              "    [theme=dark] .colab-df-convert:hover {\n",
              "      background-color: #434B5C;\n",
              "      box-shadow: 0px 1px 3px 1px rgba(0, 0, 0, 0.15);\n",
              "      filter: drop-shadow(0px 1px 2px rgba(0, 0, 0, 0.3));\n",
              "      fill: #FFFFFF;\n",
              "    }\n",
              "  </style>\n",
              "\n",
              "      <script>\n",
              "        const buttonEl =\n",
              "          document.querySelector('#df-23f59095-3ee0-440f-b6c5-485c2eb55137 button.colab-df-convert');\n",
              "        buttonEl.style.display =\n",
              "          google.colab.kernel.accessAllowed ? 'block' : 'none';\n",
              "\n",
              "        async function convertToInteractive(key) {\n",
              "          const element = document.querySelector('#df-23f59095-3ee0-440f-b6c5-485c2eb55137');\n",
              "          const dataTable =\n",
              "            await google.colab.kernel.invokeFunction('convertToInteractive',\n",
              "                                                     [key], {});\n",
              "          if (!dataTable) return;\n",
              "\n",
              "          const docLinkHtml = 'Like what you see? Visit the ' +\n",
              "            '<a target=\"_blank\" href=https://colab.research.google.com/notebooks/data_table.ipynb>data table notebook</a>'\n",
              "            + ' to learn more about interactive tables.';\n",
              "          element.innerHTML = '';\n",
              "          dataTable['output_type'] = 'display_data';\n",
              "          await google.colab.output.renderOutput(dataTable, element);\n",
              "          const docLink = document.createElement('div');\n",
              "          docLink.innerHTML = docLinkHtml;\n",
              "          element.appendChild(docLink);\n",
              "        }\n",
              "      </script>\n",
              "    </div>\n",
              "  </div>\n",
              "  "
            ]
          },
          "metadata": {},
          "execution_count": 13
        }
      ]
    },
    {
      "cell_type": "code",
      "source": [
        "test_alert_new = df_test_alert[['drugid', 'genes', 'phenotype', 'activityscore', 'allelestatus', 'lookupkey', 'alerttext']]\n",
        "# drugid = The ID of a drug this alert text is for\n",
        "# genes = One or more genes this test alert uses for trigger conditions\n",
        "# phenotype = A JSON object of gene symbol keys to phenotype description\n",
        "# activityscore = A JSON object of gene symbol keys to gene activity score\n",
        "# allelestatus = Whether or not an allele is present, used mainly for HLA genes. This is a JSON mapping of gene to allele status (positive/negative)\n",
        "# lookupkey = A key to use for finding a specific test alert. Made of a JSON object of gene symbol to key value. The key value can be one of phenotype, activity score, or allele status depending on the gene.\n",
        "# alerttext = An array of one or more pieces of alert text"
      ],
      "metadata": {
        "id": "rJ4JIoHPyCzZ"
      },
      "execution_count": null,
      "outputs": []
    },
    {
      "cell_type": "code",
      "source": [
        "df_test_alert['genes'].value_counts()"
      ],
      "metadata": {
        "id": "MgZ1_jg5yLd_",
        "outputId": "97d9cc93-20b5-4198-b4c5-6e9034f3ad90",
        "colab": {
          "base_uri": "https://localhost:8080/"
        }
      },
      "execution_count": null,
      "outputs": [
        {
          "output_type": "execute_result",
          "data": {
            "text/plain": [
              "[CYP2D6, CYP2C19]    1035\n",
              "[CYP2D6]              291\n",
              "[G6PD]                198\n",
              "[CYP2C19]             117\n",
              "[TPMT, NUDT15]        108\n",
              "[CYP2B6, CYP2C19]      63\n",
              "[CYP2C9, SLCO1B1]      49\n",
              "[CYP2C9]               49\n",
              "[MT-RNR1]              44\n",
              "[RYR1, CACNA1S]        42\n",
              "[CYP2C9, HLA-B]        42\n",
              "[SLCO1B1]              35\n",
              "[SLCO1B1, ABCG2]       28\n",
              "[DPYD]                 12\n",
              "[HLA-B]                 9\n",
              "[HLA-B, HLA-A]          9\n",
              "[CYP2B6]                7\n",
              "[CYP3A5]                6\n",
              "[UGT1A1]                5\n",
              "Name: genes, dtype: int64"
            ]
          },
          "metadata": {},
          "execution_count": 15
        }
      ]
    },
    {
      "cell_type": "code",
      "source": [
        "df_test_alert['alerttext'][0]"
      ],
      "metadata": {
        "id": "AP2QCNO_vK7-",
        "outputId": "afc80ebe-dc26-471d-c0e5-3a61fd506b16",
        "colab": {
          "base_uri": "https://localhost:8080/"
        }
      },
      "execution_count": null,
      "outputs": [
        {
          "output_type": "execute_result",
          "data": {
            "text/plain": [
              "['Based on genotype, this patient is predicted to be malignant hyperthermia susceptible. Halogenated volatile anesthetics or depolarizing muscle relaxants are relatively contraindicated in persons with MHS. They should not be used, except in extraordinary circumstances where the benefits outweigh the risks. In general, alternative anesthetics are widely available, effective, and safe in patients with MHS. Please consult an anesthesiologist or clinical pharmacist for more information.']"
            ]
          },
          "metadata": {},
          "execution_count": 16
        }
      ]
    },
    {
      "cell_type": "markdown",
      "source": [
        "## Creating 1 dataframe with everything we will need."
      ],
      "metadata": {
        "id": "cualHq9ozloS"
      }
    },
    {
      "cell_type": "code",
      "source": [
        "merge1 = pd.merge(drugs_new, recommendations_new, left_on = 'drugid', right_on = 'drugid', how = 'inner')\n",
        "merge2 = pd.merge(merge1, test_alert_new, left_on = 'drugid', right_on = 'drugid', how = 'inner')\n",
        "merge2"
      ],
      "metadata": {
        "id": "OzWFrmq2whbs",
        "colab": {
          "base_uri": "https://localhost:8080/",
          "height": 1000
        },
        "outputId": "b1e93430-1f59-4929-ee62-2fa43ce47063"
      },
      "execution_count": null,
      "outputs": [
        {
          "output_type": "execute_result",
          "data": {
            "text/plain": [
              "              drugid           name  \\\n",
              "0       RxNorm:83367   atorvastatin   \n",
              "1       RxNorm:83367   atorvastatin   \n",
              "2       RxNorm:83367   atorvastatin   \n",
              "3       RxNorm:83367   atorvastatin   \n",
              "4       RxNorm:83367   atorvastatin   \n",
              "...              ...            ...   \n",
              "236439  RxNorm:32624  oxcarbazepine   \n",
              "236440  RxNorm:32624  oxcarbazepine   \n",
              "236441  RxNorm:32624  oxcarbazepine   \n",
              "236442  RxNorm:32624  oxcarbazepine   \n",
              "236443  RxNorm:32624  oxcarbazepine   \n",
              "\n",
              "                                             implications  \\\n",
              "0       {'SLCO1B1': 'Typical myopathy risk and statin ...   \n",
              "1       {'SLCO1B1': 'Typical myopathy risk and statin ...   \n",
              "2       {'SLCO1B1': 'Typical myopathy risk and statin ...   \n",
              "3       {'SLCO1B1': 'Typical myopathy risk and statin ...   \n",
              "4       {'SLCO1B1': 'Typical myopathy risk and statin ...   \n",
              "...                                                   ...   \n",
              "236439  {'HLA-B': 'Normal risk of oxcarbazepine-induce...   \n",
              "236440  {'HLA-B': 'Normal risk of oxcarbazepine-induce...   \n",
              "236441  {'HLA-B': 'Greater risk of oxcarbazepine-induc...   \n",
              "236442  {'HLA-B': 'Greater risk of oxcarbazepine-induc...   \n",
              "236443  {'HLA-B': 'Greater risk of oxcarbazepine-induc...   \n",
              "\n",
              "                                       drugrecommendation classification  \\\n",
              "0       Prescribe desired starting dose and adjust dos...         Strong   \n",
              "1       Prescribe desired starting dose and adjust dos...         Strong   \n",
              "2       Prescribe desired starting dose and adjust dos...         Strong   \n",
              "3       Prescribe desired starting dose and adjust dos...         Strong   \n",
              "4       Prescribe desired starting dose and adjust dos...         Strong   \n",
              "...                                                   ...            ...   \n",
              "236439  Use oxcarbazepine per standard dosing guidelines.         Strong   \n",
              "236440  Use oxcarbazepine per standard dosing guidelines.         Strong   \n",
              "236441  The latency period for drug-induced SJS/TEN is...       Optional   \n",
              "236442  The latency period for drug-induced SJS/TEN is...       Optional   \n",
              "236443  The latency period for drug-induced SJS/TEN is...       Optional   \n",
              "\n",
              "                               phenotypes   activityscore_x  \\\n",
              "0       {'SLCO1B1': 'Increased Function'}                {}   \n",
              "1       {'SLCO1B1': 'Increased Function'}                {}   \n",
              "2       {'SLCO1B1': 'Increased Function'}                {}   \n",
              "3       {'SLCO1B1': 'Increased Function'}                {}   \n",
              "4       {'SLCO1B1': 'Increased Function'}                {}   \n",
              "...                                   ...               ...   \n",
              "236439                                 {}  {'HLA-B': 'n/a'}   \n",
              "236440                                 {}  {'HLA-B': 'n/a'}   \n",
              "236441                                 {}  {'HLA-B': 'n/a'}   \n",
              "236442                                 {}  {'HLA-B': 'n/a'}   \n",
              "236443                                 {}  {'HLA-B': 'n/a'}   \n",
              "\n",
              "                           allelestatus_x                        lookupkey_x  \\\n",
              "0                                      {}  {'SLCO1B1': 'Increased Function'}   \n",
              "1                                      {}  {'SLCO1B1': 'Increased Function'}   \n",
              "2                                      {}  {'SLCO1B1': 'Increased Function'}   \n",
              "3                                      {}  {'SLCO1B1': 'Increased Function'}   \n",
              "4                                      {}  {'SLCO1B1': 'Increased Function'}   \n",
              "...                                   ...                                ...   \n",
              "236439  {'HLA-B': 'HLA-B*15:02 negative'}       {'HLA-B': '*15:02 negative'}   \n",
              "236440  {'HLA-B': 'HLA-B*15:02 negative'}       {'HLA-B': '*15:02 negative'}   \n",
              "236441  {'HLA-B': 'HLA-B*15:02 positive'}       {'HLA-B': '*15:02 positive'}   \n",
              "236442  {'HLA-B': 'HLA-B*15:02 positive'}       {'HLA-B': '*15:02 positive'}   \n",
              "236443  {'HLA-B': 'HLA-B*15:02 positive'}       {'HLA-B': '*15:02 positive'}   \n",
              "\n",
              "                                                 comments      genes  \\\n",
              "0       The potential for drug-drug interactions and d...  [SLCO1B1]   \n",
              "1       The potential for drug-drug interactions and d...  [SLCO1B1]   \n",
              "2       The potential for drug-drug interactions and d...  [SLCO1B1]   \n",
              "3       The potential for drug-drug interactions and d...  [SLCO1B1]   \n",
              "4       The potential for drug-drug interactions and d...  [SLCO1B1]   \n",
              "...                                                   ...        ...   \n",
              "236439                                                n/a    [HLA-B]   \n",
              "236440                                                n/a    [HLA-B]   \n",
              "236441  Previous tolerance of oxcarbazepine is not ind...    [HLA-B]   \n",
              "236442  Previous tolerance of oxcarbazepine is not ind...    [HLA-B]   \n",
              "236443  Previous tolerance of oxcarbazepine is not ind...    [HLA-B]   \n",
              "\n",
              "                                         phenotype  \\\n",
              "0                         {'SLCO1B1': 'No Result'}   \n",
              "1                {'SLCO1B1': 'Increased Function'}   \n",
              "2                   {'SLCO1B1': 'Normal Function'}   \n",
              "3                {'SLCO1B1': 'Decreased Function'}   \n",
              "4       {'SLCO1B1': 'Possible Decreased Function'}   \n",
              "...                                            ...   \n",
              "236439                                          {}   \n",
              "236440                                          {}   \n",
              "236441                                          {}   \n",
              "236442                                          {}   \n",
              "236443                                          {}   \n",
              "\n",
              "                         activityscore_y  \\\n",
              "0       {'SLCO1B1': 'No result on file'}   \n",
              "1                     {'SLCO1B1': 'n/a'}   \n",
              "2                     {'SLCO1B1': 'n/a'}   \n",
              "3                     {'SLCO1B1': 'n/a'}   \n",
              "4                     {'SLCO1B1': 'n/a'}   \n",
              "...                                  ...   \n",
              "236439                                {}   \n",
              "236440                                {}   \n",
              "236441                                {}   \n",
              "236442                                {}   \n",
              "236443                                {}   \n",
              "\n",
              "                               allelestatus_y  \\\n",
              "0                                          {}   \n",
              "1                                          {}   \n",
              "2                                          {}   \n",
              "3                                          {}   \n",
              "4                                          {}   \n",
              "...                                       ...   \n",
              "236439           {'HLA-B': '*15:02 positive'}   \n",
              "236440           {'HLA-B': '*15:02 negative'}   \n",
              "236441  {'HLA-B': 'No *15:02 result on file'}   \n",
              "236442           {'HLA-B': '*15:02 positive'}   \n",
              "236443           {'HLA-B': '*15:02 negative'}   \n",
              "\n",
              "                                       lookupkey_y  \\\n",
              "0                         {'SLCO1B1': 'No Result'}   \n",
              "1                {'SLCO1B1': 'Increased Function'}   \n",
              "2                   {'SLCO1B1': 'Normal Function'}   \n",
              "3                {'SLCO1B1': 'Decreased Function'}   \n",
              "4       {'SLCO1B1': 'Possible Decreased Function'}   \n",
              "...                                            ...   \n",
              "236439                {'HLA-B': '*15:02 positive'}   \n",
              "236440                {'HLA-B': '*15:02 negative'}   \n",
              "236441       {'HLA-B': 'No *15:02 result on file'}   \n",
              "236442                {'HLA-B': '*15:02 positive'}   \n",
              "236443                {'HLA-B': '*15:02 negative'}   \n",
              "\n",
              "                                                alerttext  \n",
              "0       [SLCO1B1 genetic status may be predictive of t...  \n",
              "1                                                   [n/a]  \n",
              "2                                                   [n/a]  \n",
              "3       [This patient is predicted to have SLCO1B1 dec...  \n",
              "4       [This patient is predicted to have SLCO1B1 pos...  \n",
              "...                                                   ...  \n",
              "236439  [HLA-B*15:02 genetic status may be predictive ...  \n",
              "236440                                              [n/a]  \n",
              "236441  [HLA-B*15:02 genetic status may be predictive ...  \n",
              "236442  [HLA-B*15:02 genetic status may be predictive ...  \n",
              "236443                                              [n/a]  \n",
              "\n",
              "[236444 rows x 16 columns]"
            ],
            "text/html": [
              "\n",
              "  <div id=\"df-a832f486-bcce-4bb7-8bf2-e73e3aa53a39\">\n",
              "    <div class=\"colab-df-container\">\n",
              "      <div>\n",
              "<style scoped>\n",
              "    .dataframe tbody tr th:only-of-type {\n",
              "        vertical-align: middle;\n",
              "    }\n",
              "\n",
              "    .dataframe tbody tr th {\n",
              "        vertical-align: top;\n",
              "    }\n",
              "\n",
              "    .dataframe thead th {\n",
              "        text-align: right;\n",
              "    }\n",
              "</style>\n",
              "<table border=\"1\" class=\"dataframe\">\n",
              "  <thead>\n",
              "    <tr style=\"text-align: right;\">\n",
              "      <th></th>\n",
              "      <th>drugid</th>\n",
              "      <th>name</th>\n",
              "      <th>implications</th>\n",
              "      <th>drugrecommendation</th>\n",
              "      <th>classification</th>\n",
              "      <th>phenotypes</th>\n",
              "      <th>activityscore_x</th>\n",
              "      <th>allelestatus_x</th>\n",
              "      <th>lookupkey_x</th>\n",
              "      <th>comments</th>\n",
              "      <th>genes</th>\n",
              "      <th>phenotype</th>\n",
              "      <th>activityscore_y</th>\n",
              "      <th>allelestatus_y</th>\n",
              "      <th>lookupkey_y</th>\n",
              "      <th>alerttext</th>\n",
              "    </tr>\n",
              "  </thead>\n",
              "  <tbody>\n",
              "    <tr>\n",
              "      <th>0</th>\n",
              "      <td>RxNorm:83367</td>\n",
              "      <td>atorvastatin</td>\n",
              "      <td>{'SLCO1B1': 'Typical myopathy risk and statin ...</td>\n",
              "      <td>Prescribe desired starting dose and adjust dos...</td>\n",
              "      <td>Strong</td>\n",
              "      <td>{'SLCO1B1': 'Increased Function'}</td>\n",
              "      <td>{}</td>\n",
              "      <td>{}</td>\n",
              "      <td>{'SLCO1B1': 'Increased Function'}</td>\n",
              "      <td>The potential for drug-drug interactions and d...</td>\n",
              "      <td>[SLCO1B1]</td>\n",
              "      <td>{'SLCO1B1': 'No Result'}</td>\n",
              "      <td>{'SLCO1B1': 'No result on file'}</td>\n",
              "      <td>{}</td>\n",
              "      <td>{'SLCO1B1': 'No Result'}</td>\n",
              "      <td>[SLCO1B1 genetic status may be predictive of t...</td>\n",
              "    </tr>\n",
              "    <tr>\n",
              "      <th>1</th>\n",
              "      <td>RxNorm:83367</td>\n",
              "      <td>atorvastatin</td>\n",
              "      <td>{'SLCO1B1': 'Typical myopathy risk and statin ...</td>\n",
              "      <td>Prescribe desired starting dose and adjust dos...</td>\n",
              "      <td>Strong</td>\n",
              "      <td>{'SLCO1B1': 'Increased Function'}</td>\n",
              "      <td>{}</td>\n",
              "      <td>{}</td>\n",
              "      <td>{'SLCO1B1': 'Increased Function'}</td>\n",
              "      <td>The potential for drug-drug interactions and d...</td>\n",
              "      <td>[SLCO1B1]</td>\n",
              "      <td>{'SLCO1B1': 'Increased Function'}</td>\n",
              "      <td>{'SLCO1B1': 'n/a'}</td>\n",
              "      <td>{}</td>\n",
              "      <td>{'SLCO1B1': 'Increased Function'}</td>\n",
              "      <td>[n/a]</td>\n",
              "    </tr>\n",
              "    <tr>\n",
              "      <th>2</th>\n",
              "      <td>RxNorm:83367</td>\n",
              "      <td>atorvastatin</td>\n",
              "      <td>{'SLCO1B1': 'Typical myopathy risk and statin ...</td>\n",
              "      <td>Prescribe desired starting dose and adjust dos...</td>\n",
              "      <td>Strong</td>\n",
              "      <td>{'SLCO1B1': 'Increased Function'}</td>\n",
              "      <td>{}</td>\n",
              "      <td>{}</td>\n",
              "      <td>{'SLCO1B1': 'Increased Function'}</td>\n",
              "      <td>The potential for drug-drug interactions and d...</td>\n",
              "      <td>[SLCO1B1]</td>\n",
              "      <td>{'SLCO1B1': 'Normal Function'}</td>\n",
              "      <td>{'SLCO1B1': 'n/a'}</td>\n",
              "      <td>{}</td>\n",
              "      <td>{'SLCO1B1': 'Normal Function'}</td>\n",
              "      <td>[n/a]</td>\n",
              "    </tr>\n",
              "    <tr>\n",
              "      <th>3</th>\n",
              "      <td>RxNorm:83367</td>\n",
              "      <td>atorvastatin</td>\n",
              "      <td>{'SLCO1B1': 'Typical myopathy risk and statin ...</td>\n",
              "      <td>Prescribe desired starting dose and adjust dos...</td>\n",
              "      <td>Strong</td>\n",
              "      <td>{'SLCO1B1': 'Increased Function'}</td>\n",
              "      <td>{}</td>\n",
              "      <td>{}</td>\n",
              "      <td>{'SLCO1B1': 'Increased Function'}</td>\n",
              "      <td>The potential for drug-drug interactions and d...</td>\n",
              "      <td>[SLCO1B1]</td>\n",
              "      <td>{'SLCO1B1': 'Decreased Function'}</td>\n",
              "      <td>{'SLCO1B1': 'n/a'}</td>\n",
              "      <td>{}</td>\n",
              "      <td>{'SLCO1B1': 'Decreased Function'}</td>\n",
              "      <td>[This patient is predicted to have SLCO1B1 dec...</td>\n",
              "    </tr>\n",
              "    <tr>\n",
              "      <th>4</th>\n",
              "      <td>RxNorm:83367</td>\n",
              "      <td>atorvastatin</td>\n",
              "      <td>{'SLCO1B1': 'Typical myopathy risk and statin ...</td>\n",
              "      <td>Prescribe desired starting dose and adjust dos...</td>\n",
              "      <td>Strong</td>\n",
              "      <td>{'SLCO1B1': 'Increased Function'}</td>\n",
              "      <td>{}</td>\n",
              "      <td>{}</td>\n",
              "      <td>{'SLCO1B1': 'Increased Function'}</td>\n",
              "      <td>The potential for drug-drug interactions and d...</td>\n",
              "      <td>[SLCO1B1]</td>\n",
              "      <td>{'SLCO1B1': 'Possible Decreased Function'}</td>\n",
              "      <td>{'SLCO1B1': 'n/a'}</td>\n",
              "      <td>{}</td>\n",
              "      <td>{'SLCO1B1': 'Possible Decreased Function'}</td>\n",
              "      <td>[This patient is predicted to have SLCO1B1 pos...</td>\n",
              "    </tr>\n",
              "    <tr>\n",
              "      <th>...</th>\n",
              "      <td>...</td>\n",
              "      <td>...</td>\n",
              "      <td>...</td>\n",
              "      <td>...</td>\n",
              "      <td>...</td>\n",
              "      <td>...</td>\n",
              "      <td>...</td>\n",
              "      <td>...</td>\n",
              "      <td>...</td>\n",
              "      <td>...</td>\n",
              "      <td>...</td>\n",
              "      <td>...</td>\n",
              "      <td>...</td>\n",
              "      <td>...</td>\n",
              "      <td>...</td>\n",
              "      <td>...</td>\n",
              "    </tr>\n",
              "    <tr>\n",
              "      <th>236439</th>\n",
              "      <td>RxNorm:32624</td>\n",
              "      <td>oxcarbazepine</td>\n",
              "      <td>{'HLA-B': 'Normal risk of oxcarbazepine-induce...</td>\n",
              "      <td>Use oxcarbazepine per standard dosing guidelines.</td>\n",
              "      <td>Strong</td>\n",
              "      <td>{}</td>\n",
              "      <td>{'HLA-B': 'n/a'}</td>\n",
              "      <td>{'HLA-B': 'HLA-B*15:02 negative'}</td>\n",
              "      <td>{'HLA-B': '*15:02 negative'}</td>\n",
              "      <td>n/a</td>\n",
              "      <td>[HLA-B]</td>\n",
              "      <td>{}</td>\n",
              "      <td>{}</td>\n",
              "      <td>{'HLA-B': '*15:02 positive'}</td>\n",
              "      <td>{'HLA-B': '*15:02 positive'}</td>\n",
              "      <td>[HLA-B*15:02 genetic status may be predictive ...</td>\n",
              "    </tr>\n",
              "    <tr>\n",
              "      <th>236440</th>\n",
              "      <td>RxNorm:32624</td>\n",
              "      <td>oxcarbazepine</td>\n",
              "      <td>{'HLA-B': 'Normal risk of oxcarbazepine-induce...</td>\n",
              "      <td>Use oxcarbazepine per standard dosing guidelines.</td>\n",
              "      <td>Strong</td>\n",
              "      <td>{}</td>\n",
              "      <td>{'HLA-B': 'n/a'}</td>\n",
              "      <td>{'HLA-B': 'HLA-B*15:02 negative'}</td>\n",
              "      <td>{'HLA-B': '*15:02 negative'}</td>\n",
              "      <td>n/a</td>\n",
              "      <td>[HLA-B]</td>\n",
              "      <td>{}</td>\n",
              "      <td>{}</td>\n",
              "      <td>{'HLA-B': '*15:02 negative'}</td>\n",
              "      <td>{'HLA-B': '*15:02 negative'}</td>\n",
              "      <td>[n/a]</td>\n",
              "    </tr>\n",
              "    <tr>\n",
              "      <th>236441</th>\n",
              "      <td>RxNorm:32624</td>\n",
              "      <td>oxcarbazepine</td>\n",
              "      <td>{'HLA-B': 'Greater risk of oxcarbazepine-induc...</td>\n",
              "      <td>The latency period for drug-induced SJS/TEN is...</td>\n",
              "      <td>Optional</td>\n",
              "      <td>{}</td>\n",
              "      <td>{'HLA-B': 'n/a'}</td>\n",
              "      <td>{'HLA-B': 'HLA-B*15:02 positive'}</td>\n",
              "      <td>{'HLA-B': '*15:02 positive'}</td>\n",
              "      <td>Previous tolerance of oxcarbazepine is not ind...</td>\n",
              "      <td>[HLA-B]</td>\n",
              "      <td>{}</td>\n",
              "      <td>{}</td>\n",
              "      <td>{'HLA-B': 'No *15:02 result on file'}</td>\n",
              "      <td>{'HLA-B': 'No *15:02 result on file'}</td>\n",
              "      <td>[HLA-B*15:02 genetic status may be predictive ...</td>\n",
              "    </tr>\n",
              "    <tr>\n",
              "      <th>236442</th>\n",
              "      <td>RxNorm:32624</td>\n",
              "      <td>oxcarbazepine</td>\n",
              "      <td>{'HLA-B': 'Greater risk of oxcarbazepine-induc...</td>\n",
              "      <td>The latency period for drug-induced SJS/TEN is...</td>\n",
              "      <td>Optional</td>\n",
              "      <td>{}</td>\n",
              "      <td>{'HLA-B': 'n/a'}</td>\n",
              "      <td>{'HLA-B': 'HLA-B*15:02 positive'}</td>\n",
              "      <td>{'HLA-B': '*15:02 positive'}</td>\n",
              "      <td>Previous tolerance of oxcarbazepine is not ind...</td>\n",
              "      <td>[HLA-B]</td>\n",
              "      <td>{}</td>\n",
              "      <td>{}</td>\n",
              "      <td>{'HLA-B': '*15:02 positive'}</td>\n",
              "      <td>{'HLA-B': '*15:02 positive'}</td>\n",
              "      <td>[HLA-B*15:02 genetic status may be predictive ...</td>\n",
              "    </tr>\n",
              "    <tr>\n",
              "      <th>236443</th>\n",
              "      <td>RxNorm:32624</td>\n",
              "      <td>oxcarbazepine</td>\n",
              "      <td>{'HLA-B': 'Greater risk of oxcarbazepine-induc...</td>\n",
              "      <td>The latency period for drug-induced SJS/TEN is...</td>\n",
              "      <td>Optional</td>\n",
              "      <td>{}</td>\n",
              "      <td>{'HLA-B': 'n/a'}</td>\n",
              "      <td>{'HLA-B': 'HLA-B*15:02 positive'}</td>\n",
              "      <td>{'HLA-B': '*15:02 positive'}</td>\n",
              "      <td>Previous tolerance of oxcarbazepine is not ind...</td>\n",
              "      <td>[HLA-B]</td>\n",
              "      <td>{}</td>\n",
              "      <td>{}</td>\n",
              "      <td>{'HLA-B': '*15:02 negative'}</td>\n",
              "      <td>{'HLA-B': '*15:02 negative'}</td>\n",
              "      <td>[n/a]</td>\n",
              "    </tr>\n",
              "  </tbody>\n",
              "</table>\n",
              "<p>236444 rows × 16 columns</p>\n",
              "</div>\n",
              "      <button class=\"colab-df-convert\" onclick=\"convertToInteractive('df-a832f486-bcce-4bb7-8bf2-e73e3aa53a39')\"\n",
              "              title=\"Convert this dataframe to an interactive table.\"\n",
              "              style=\"display:none;\">\n",
              "        \n",
              "  <svg xmlns=\"http://www.w3.org/2000/svg\" height=\"24px\"viewBox=\"0 0 24 24\"\n",
              "       width=\"24px\">\n",
              "    <path d=\"M0 0h24v24H0V0z\" fill=\"none\"/>\n",
              "    <path d=\"M18.56 5.44l.94 2.06.94-2.06 2.06-.94-2.06-.94-.94-2.06-.94 2.06-2.06.94zm-11 1L8.5 8.5l.94-2.06 2.06-.94-2.06-.94L8.5 2.5l-.94 2.06-2.06.94zm10 10l.94 2.06.94-2.06 2.06-.94-2.06-.94-.94-2.06-.94 2.06-2.06.94z\"/><path d=\"M17.41 7.96l-1.37-1.37c-.4-.4-.92-.59-1.43-.59-.52 0-1.04.2-1.43.59L10.3 9.45l-7.72 7.72c-.78.78-.78 2.05 0 2.83L4 21.41c.39.39.9.59 1.41.59.51 0 1.02-.2 1.41-.59l7.78-7.78 2.81-2.81c.8-.78.8-2.07 0-2.86zM5.41 20L4 18.59l7.72-7.72 1.47 1.35L5.41 20z\"/>\n",
              "  </svg>\n",
              "      </button>\n",
              "      \n",
              "  <style>\n",
              "    .colab-df-container {\n",
              "      display:flex;\n",
              "      flex-wrap:wrap;\n",
              "      gap: 12px;\n",
              "    }\n",
              "\n",
              "    .colab-df-convert {\n",
              "      background-color: #E8F0FE;\n",
              "      border: none;\n",
              "      border-radius: 50%;\n",
              "      cursor: pointer;\n",
              "      display: none;\n",
              "      fill: #1967D2;\n",
              "      height: 32px;\n",
              "      padding: 0 0 0 0;\n",
              "      width: 32px;\n",
              "    }\n",
              "\n",
              "    .colab-df-convert:hover {\n",
              "      background-color: #E2EBFA;\n",
              "      box-shadow: 0px 1px 2px rgba(60, 64, 67, 0.3), 0px 1px 3px 1px rgba(60, 64, 67, 0.15);\n",
              "      fill: #174EA6;\n",
              "    }\n",
              "\n",
              "    [theme=dark] .colab-df-convert {\n",
              "      background-color: #3B4455;\n",
              "      fill: #D2E3FC;\n",
              "    }\n",
              "\n",
              "    [theme=dark] .colab-df-convert:hover {\n",
              "      background-color: #434B5C;\n",
              "      box-shadow: 0px 1px 3px 1px rgba(0, 0, 0, 0.15);\n",
              "      filter: drop-shadow(0px 1px 2px rgba(0, 0, 0, 0.3));\n",
              "      fill: #FFFFFF;\n",
              "    }\n",
              "  </style>\n",
              "\n",
              "      <script>\n",
              "        const buttonEl =\n",
              "          document.querySelector('#df-a832f486-bcce-4bb7-8bf2-e73e3aa53a39 button.colab-df-convert');\n",
              "        buttonEl.style.display =\n",
              "          google.colab.kernel.accessAllowed ? 'block' : 'none';\n",
              "\n",
              "        async function convertToInteractive(key) {\n",
              "          const element = document.querySelector('#df-a832f486-bcce-4bb7-8bf2-e73e3aa53a39');\n",
              "          const dataTable =\n",
              "            await google.colab.kernel.invokeFunction('convertToInteractive',\n",
              "                                                     [key], {});\n",
              "          if (!dataTable) return;\n",
              "\n",
              "          const docLinkHtml = 'Like what you see? Visit the ' +\n",
              "            '<a target=\"_blank\" href=https://colab.research.google.com/notebooks/data_table.ipynb>data table notebook</a>'\n",
              "            + ' to learn more about interactive tables.';\n",
              "          element.innerHTML = '';\n",
              "          dataTable['output_type'] = 'display_data';\n",
              "          await google.colab.output.renderOutput(dataTable, element);\n",
              "          const docLink = document.createElement('div');\n",
              "          docLink.innerHTML = docLinkHtml;\n",
              "          element.appendChild(docLink);\n",
              "        }\n",
              "      </script>\n",
              "    </div>\n",
              "  </div>\n",
              "  "
            ]
          },
          "metadata": {},
          "execution_count": 17
        }
      ]
    },
    {
      "cell_type": "markdown",
      "source": [
        "## Finding just the ones with Strong classification"
      ],
      "metadata": {
        "id": "82Q7qNsj05j6"
      }
    },
    {
      "cell_type": "code",
      "source": [
        "classification_counts = merge2['classification'].value_counts()\n",
        "\n",
        "classification_counts.plot(kind='bar')\n",
        "\n",
        "plt.title('Classification Counts')\n",
        "plt.xlabel('Classification')\n",
        "plt.ylabel('Count')\n",
        "\n",
        "plt.show()"
      ],
      "metadata": {
        "colab": {
          "base_uri": "https://localhost:8080/",
          "height": 603
        },
        "id": "HVN4_IdEpl80",
        "outputId": "dfcb39f7-9e67-4d78-9f15-f6465088be6b"
      },
      "execution_count": null,
      "outputs": [
        {
          "output_type": "display_data",
          "data": {
            "text/plain": [
              "<Figure size 640x480 with 1 Axes>"
            ],
            "image/png": "[encoded data removed]"
          },
          "metadata": {}
        }
      ]
    },
    {
      "cell_type": "code",
      "source": [
        "filtered_df = merge2[merge2['classification'] == 'Strong']"
      ],
      "metadata": {
        "id": "45Uq-91eqTTM"
      },
      "execution_count": null,
      "outputs": []
    },
    {
      "cell_type": "code",
      "source": [
        "filtered_df.shape"
      ],
      "metadata": {
        "colab": {
          "base_uri": "https://localhost:8080/"
        },
        "id": "969oMtHurRgE",
        "outputId": "300ffdb3-a1b4-4470-aa9d-b2f33619120e"
      },
      "execution_count": null,
      "outputs": [
        {
          "output_type": "execute_result",
          "data": {
            "text/plain": [
              "(34974, 16)"
            ]
          },
          "metadata": {},
          "execution_count": 20
        }
      ]
    },
    {
      "cell_type": "code",
      "source": [
        "unique_drugids = filtered_df['drugid'].nunique()\n",
        "unique_drugids"
      ],
      "metadata": {
        "colab": {
          "base_uri": "https://localhost:8080/"
        },
        "id": "Y3rEO3TZqr4c",
        "outputId": "9771ac38-10ad-4b77-be8c-6c5fa867b88c"
      },
      "execution_count": null,
      "outputs": [
        {
          "output_type": "execute_result",
          "data": {
            "text/plain": [
              "102"
            ]
          },
          "metadata": {},
          "execution_count": 21
        }
      ]
    },
    {
      "cell_type": "code",
      "source": [
        "name_drugs = filtered_df['name'].unique()"
      ],
      "metadata": {
        "id": "aEooICU802o6"
      },
      "execution_count": null,
      "outputs": []
    },
    {
      "cell_type": "code",
      "source": [
        "filtered_df.to_csv('filtered_drugs_recommendations.csv')"
      ],
      "metadata": {
        "id": "iuFkHadY6YBp"
      },
      "execution_count": null,
      "outputs": []
    },
    {
      "cell_type": "code",
      "source": [
        "pd.DataFrame(name_drugs).to_csv(\"name_drugs.csv\", header=None, index=None)"
      ],
      "metadata": {
        "id": "L5MiyBZH1bas"
      },
      "execution_count": null,
      "outputs": []
    },
    {
      "cell_type": "code",
      "source": [],
      "metadata": {
        "id": "ZiGlDFbY3pPh"
      },
      "execution_count": null,
      "outputs": []
    }
  ]
}