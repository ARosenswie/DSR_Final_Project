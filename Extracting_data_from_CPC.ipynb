{
 "cells": [
  {
   "cell_type": "markdown",
   "metadata": {
    "id": "8K8dMcImtg9L"
   },
   "source": [
    "# This code extracts the information we will need from each drug"
   ]
  },
  {
   "cell_type": "markdown",
   "metadata": {
    "id": "FjqeGi6UtplQ"
   },
   "source": [
    "## Importing packages"
   ]
  },
  {
   "cell_type": "code",
   "execution_count": 1,
   "metadata": {
    "id": "klTiCVJ_lqyl"
   },
   "outputs": [],
   "source": [
    "import requests\n",
    "import pandas as pd\n",
    "import matplotlib.pyplot as plt\n",
    "import numpy as np"
   ]
  },
  {
   "cell_type": "markdown",
   "metadata": {
    "id": "0t2XkjfMtrts"
   },
   "source": [
    "## Downloading the data from CPIC"
   ]
  },
  {
   "cell_type": "code",
   "execution_count": 2,
   "metadata": {
    "id": "FYPD8nZAlx_K"
   },
   "outputs": [],
   "source": [
    "cpic_drug_url = \"https://api.cpicpgx.org/v1/drug\"\n",
    "cpic_recommendations_url = \"https://api.cpicpgx.org/v1/recommendation\"\n",
    "cpic_test_alert_url = \"https://api.cpicpgx.org/v1/test_alert\"\n",
    "\n",
    "# Fetch data from cpic_drug_url\n",
    "response_drug = requests.get(cpic_drug_url)\n",
    "if response_drug.status_code == 200:\n",
    "    cpic_drug_data = response_drug.json()\n",
    "else:\n",
    "    print(\"Error retrieving data from cpic_drug_url.\")\n",
    "\n",
    "# Fetch data from cpic_recommendations_url\n",
    "response_recommendations = requests.get(cpic_recommendations_url)\n",
    "if response_recommendations.status_code == 200:\n",
    "    cpic_recommendations_data = response_recommendations.json()\n",
    "else:\n",
    "    print(\"Error retrieving data from cpic_recommendations_url.\")\n",
    "\n",
    "# Fetch data from cpic_test_alert_url\n",
    "response_test_alert = requests.get(cpic_test_alert_url)\n",
    "if response_test_alert.status_code == 200:\n",
    "    cpic_test_alert_data = response_test_alert.json()\n",
    "else:\n",
    "    print(\"Error retrieving data from cpic_test_alert_url.\")"
   ]
  },
  {
   "cell_type": "code",
   "execution_count": 3,
   "metadata": {},
   "outputs": [],
   "source": [
    "def fetch_cpic_drug():\n",
    "\n",
    "    response = requests.get(cpic_drug_url)\n",
    "    data = response.json()\n",
    "\n",
    "    return data\n",
    "\n",
    "def fetch_cpic_recommendations():\n",
    "\n",
    "    response = requests.get(cpic_recommendations_url)\n",
    "    data = response.json()\n",
    "\n",
    "    return data\n",
    "\n",
    "def fetch_cpic_test_alert():\n",
    "\n",
    "    response = requests.get(cpic_test_alert_url)\n",
    "    data = response.json()\n",
    "\n",
    "    return data"
   ]
  },
  {
   "cell_type": "code",
   "execution_count": 4,
   "metadata": {
    "id": "Ft5uccxtl-a0"
   },
   "outputs": [],
   "source": [
    "drugs = fetch_cpic_drug()\n",
    "recommendations = fetch_cpic_recommendations()\n",
    "test_alert = fetch_cpic_test_alert()"
   ]
  },
  {
   "cell_type": "markdown",
   "metadata": {
    "id": "obXgqH-RtwqB"
   },
   "source": [
    "## Saving the data as Data frames"
   ]
  },
  {
   "cell_type": "code",
   "execution_count": 5,
   "metadata": {
    "id": "EaMi96PypfuN"
   },
   "outputs": [],
   "source": [
    "df_drugs = pd.DataFrame(drugs)\n",
    "df_recommendations = pd.DataFrame(recommendations)\n",
    "df_test_alert = pd.DataFrame(test_alert)"
   ]
  },
  {
   "cell_type": "markdown",
   "metadata": {
    "id": "v24vxx3MuB1J"
   },
   "source": [
    "## Look at the data frames"
   ]
  },
  {
   "cell_type": "markdown",
   "metadata": {
    "id": "b1ViEBqXuy_r"
   },
   "source": [
    "### Drugs"
   ]
  },
  {
   "cell_type": "code",
   "execution_count": 6,
   "metadata": {
    "colab": {
     "base_uri": "https://localhost:8080/",
     "height": 112
    },
    "id": "TNNBEo-OwayG",
    "outputId": "c1368a1c-264a-420a-be10-823a0fad63f0"
   },
   "outputs": [
    {
     "data": {
      "text/html": [
       "<div>\n",
       "<style scoped>\n",
       "    .dataframe tbody tr th:only-of-type {\n",
       "        vertical-align: middle;\n",
       "    }\n",
       "\n",
       "    .dataframe tbody tr th {\n",
       "        vertical-align: top;\n",
       "    }\n",
       "\n",
       "    .dataframe thead th {\n",
       "        text-align: right;\n",
       "    }\n",
       "</style>\n",
       "<table border=\"1\" class=\"dataframe\">\n",
       "  <thead>\n",
       "    <tr style=\"text-align: right;\">\n",
       "      <th></th>\n",
       "      <th>drugid</th>\n",
       "      <th>name</th>\n",
       "      <th>pharmgkbid</th>\n",
       "      <th>rxnormid</th>\n",
       "      <th>drugbankid</th>\n",
       "      <th>atcid</th>\n",
       "      <th>umlscui</th>\n",
       "      <th>flowchart</th>\n",
       "      <th>version</th>\n",
       "      <th>guidelineid</th>\n",
       "    </tr>\n",
       "  </thead>\n",
       "  <tbody>\n",
       "    <tr>\n",
       "      <th>0</th>\n",
       "      <td>RxNorm:401713</td>\n",
       "      <td>carglumic acid</td>\n",
       "      <td>PA165958402</td>\n",
       "      <td>401713</td>\n",
       "      <td>DB06775</td>\n",
       "      <td>[A16AA05]</td>\n",
       "      <td>None</td>\n",
       "      <td>None</td>\n",
       "      <td>65</td>\n",
       "      <td>NaN</td>\n",
       "    </tr>\n",
       "    <tr>\n",
       "      <th>1</th>\n",
       "      <td>RxNorm:42347</td>\n",
       "      <td>bupropion</td>\n",
       "      <td>PA448687</td>\n",
       "      <td>42347</td>\n",
       "      <td>DB01156</td>\n",
       "      <td>[N06AX12]</td>\n",
       "      <td>None</td>\n",
       "      <td>None</td>\n",
       "      <td>65</td>\n",
       "      <td>NaN</td>\n",
       "    </tr>\n",
       "    <tr>\n",
       "      <th>2</th>\n",
       "      <td>RxNorm:1886</td>\n",
       "      <td>caffeine</td>\n",
       "      <td>PA448710</td>\n",
       "      <td>1886</td>\n",
       "      <td>DB00201</td>\n",
       "      <td>[N06BC01]</td>\n",
       "      <td>None</td>\n",
       "      <td>None</td>\n",
       "      <td>65</td>\n",
       "      <td>NaN</td>\n",
       "    </tr>\n",
       "    <tr>\n",
       "      <th>3</th>\n",
       "      <td>RxNorm:266856</td>\n",
       "      <td>divalproex sodium</td>\n",
       "      <td>PA164783479</td>\n",
       "      <td>266856</td>\n",
       "      <td>DB00510</td>\n",
       "      <td>None</td>\n",
       "      <td>None</td>\n",
       "      <td>None</td>\n",
       "      <td>65</td>\n",
       "      <td>NaN</td>\n",
       "    </tr>\n",
       "    <tr>\n",
       "      <th>4</th>\n",
       "      <td>RxNorm:3355</td>\n",
       "      <td>diclofenac</td>\n",
       "      <td>PA449293</td>\n",
       "      <td>3355</td>\n",
       "      <td>DB00586</td>\n",
       "      <td>[D11AX18, M01AB05, M02AA15, S01BC03]</td>\n",
       "      <td>None</td>\n",
       "      <td>None</td>\n",
       "      <td>173</td>\n",
       "      <td>110058.0</td>\n",
       "    </tr>\n",
       "    <tr>\n",
       "      <th>5</th>\n",
       "      <td>RxNorm:596723</td>\n",
       "      <td>cerivastatin</td>\n",
       "      <td>PA448897</td>\n",
       "      <td>596723</td>\n",
       "      <td>DB00439</td>\n",
       "      <td>[C10AA06]</td>\n",
       "      <td>None</td>\n",
       "      <td>None</td>\n",
       "      <td>65</td>\n",
       "      <td>NaN</td>\n",
       "    </tr>\n",
       "    <tr>\n",
       "      <th>6</th>\n",
       "      <td>RxNorm:2555</td>\n",
       "      <td>cisplatin</td>\n",
       "      <td>PA449014</td>\n",
       "      <td>2555</td>\n",
       "      <td>DB00515</td>\n",
       "      <td>[L01XA01]</td>\n",
       "      <td>None</td>\n",
       "      <td>None</td>\n",
       "      <td>65</td>\n",
       "      <td>NaN</td>\n",
       "    </tr>\n",
       "    <tr>\n",
       "      <th>7</th>\n",
       "      <td>RxNorm:10627</td>\n",
       "      <td>tobramycin</td>\n",
       "      <td>PA451704</td>\n",
       "      <td>10627</td>\n",
       "      <td>DB00684</td>\n",
       "      <td>[J01GB01, S01AA12]</td>\n",
       "      <td>None</td>\n",
       "      <td>None</td>\n",
       "      <td>108</td>\n",
       "      <td>826283.0</td>\n",
       "    </tr>\n",
       "    <tr>\n",
       "      <th>8</th>\n",
       "      <td>RxNorm:83367</td>\n",
       "      <td>atorvastatin</td>\n",
       "      <td>PA448500</td>\n",
       "      <td>83367</td>\n",
       "      <td>DB01076</td>\n",
       "      <td>[C10AA05]</td>\n",
       "      <td>None</td>\n",
       "      <td>https://files.cpicpgx.org/images/flow_chart/At...</td>\n",
       "      <td>141</td>\n",
       "      <td>100426.0</td>\n",
       "    </tr>\n",
       "    <tr>\n",
       "      <th>9</th>\n",
       "      <td>ATC:L01A</td>\n",
       "      <td>Alkylating Agents</td>\n",
       "      <td>PA164712331</td>\n",
       "      <td>None</td>\n",
       "      <td>None</td>\n",
       "      <td>[L01A]</td>\n",
       "      <td>None</td>\n",
       "      <td>None</td>\n",
       "      <td>65</td>\n",
       "      <td>NaN</td>\n",
       "    </tr>\n",
       "  </tbody>\n",
       "</table>\n",
       "</div>"
      ],
      "text/plain": [
       "          drugid               name   pharmgkbid rxnormid drugbankid   \n",
       "0  RxNorm:401713     carglumic acid  PA165958402   401713    DB06775  \\\n",
       "1   RxNorm:42347          bupropion     PA448687    42347    DB01156   \n",
       "2    RxNorm:1886           caffeine     PA448710     1886    DB00201   \n",
       "3  RxNorm:266856  divalproex sodium  PA164783479   266856    DB00510   \n",
       "4    RxNorm:3355         diclofenac     PA449293     3355    DB00586   \n",
       "5  RxNorm:596723       cerivastatin     PA448897   596723    DB00439   \n",
       "6    RxNorm:2555          cisplatin     PA449014     2555    DB00515   \n",
       "7   RxNorm:10627         tobramycin     PA451704    10627    DB00684   \n",
       "8   RxNorm:83367       atorvastatin     PA448500    83367    DB01076   \n",
       "9       ATC:L01A  Alkylating Agents  PA164712331     None       None   \n",
       "\n",
       "                                  atcid umlscui   \n",
       "0                             [A16AA05]    None  \\\n",
       "1                             [N06AX12]    None   \n",
       "2                             [N06BC01]    None   \n",
       "3                                  None    None   \n",
       "4  [D11AX18, M01AB05, M02AA15, S01BC03]    None   \n",
       "5                             [C10AA06]    None   \n",
       "6                             [L01XA01]    None   \n",
       "7                    [J01GB01, S01AA12]    None   \n",
       "8                             [C10AA05]    None   \n",
       "9                                [L01A]    None   \n",
       "\n",
       "                                           flowchart  version  guidelineid  \n",
       "0                                               None       65          NaN  \n",
       "1                                               None       65          NaN  \n",
       "2                                               None       65          NaN  \n",
       "3                                               None       65          NaN  \n",
       "4                                               None      173     110058.0  \n",
       "5                                               None       65          NaN  \n",
       "6                                               None       65          NaN  \n",
       "7                                               None      108     826283.0  \n",
       "8  https://files.cpicpgx.org/images/flow_chart/At...      141     100426.0  \n",
       "9                                               None       65          NaN  "
      ]
     },
     "execution_count": 6,
     "metadata": {},
     "output_type": "execute_result"
    }
   ],
   "source": [
    "df_drugs.head(10)"
   ]
  },
  {
   "cell_type": "code",
   "execution_count": 7,
   "metadata": {
    "colab": {
     "base_uri": "https://localhost:8080/"
    },
    "id": "6jh29q--ueO7",
    "outputId": "0eefe06e-449e-4c40-d49e-487c19f83a84"
   },
   "outputs": [
    {
     "data": {
      "text/plain": [
       "(316, 10)"
      ]
     },
     "execution_count": 7,
     "metadata": {},
     "output_type": "execute_result"
    }
   ],
   "source": [
    "df_drugs.shape"
   ]
  },
  {
   "cell_type": "code",
   "execution_count": 8,
   "metadata": {
    "id": "3aHyAkPtx4nS"
   },
   "outputs": [],
   "source": [
    "drugs_new = df_drugs[['drugid', 'name']]\n",
    "# drugid = A unique identifier for this drug in the form “source:id” where source is some outside knowledge resource and id is their identifier, primary key\n",
    "# name = The generic name for this drug, lower-cased, required"
   ]
  },
  {
   "cell_type": "markdown",
   "metadata": {
    "id": "yGPk6Q9du1uU"
   },
   "source": [
    "### Recommendations:"
   ]
  },
  {
   "cell_type": "code",
   "execution_count": 9,
   "metadata": {
    "colab": {
     "base_uri": "https://localhost:8080/",
     "height": 280
    },
    "id": "6u_ce8JywXFq",
    "outputId": "c9ca5d02-91b5-4338-87ee-273fbb437fcb"
   },
   "outputs": [
    {
     "data": {
      "text/html": [
       "<div>\n",
       "<style scoped>\n",
       "    .dataframe tbody tr th:only-of-type {\n",
       "        vertical-align: middle;\n",
       "    }\n",
       "\n",
       "    .dataframe tbody tr th {\n",
       "        vertical-align: top;\n",
       "    }\n",
       "\n",
       "    .dataframe thead th {\n",
       "        text-align: right;\n",
       "    }\n",
       "</style>\n",
       "<table border=\"1\" class=\"dataframe\">\n",
       "  <thead>\n",
       "    <tr style=\"text-align: right;\">\n",
       "      <th></th>\n",
       "      <th>id</th>\n",
       "      <th>guidelineid</th>\n",
       "      <th>drugid</th>\n",
       "      <th>implications</th>\n",
       "      <th>drugrecommendation</th>\n",
       "      <th>classification</th>\n",
       "      <th>phenotypes</th>\n",
       "      <th>activityscore</th>\n",
       "      <th>allelestatus</th>\n",
       "      <th>lookupkey</th>\n",
       "      <th>population</th>\n",
       "      <th>comments</th>\n",
       "      <th>version</th>\n",
       "      <th>dosinginformation</th>\n",
       "      <th>alternatedrugavailable</th>\n",
       "      <th>otherprescribingguidance</th>\n",
       "    </tr>\n",
       "  </thead>\n",
       "  <tbody>\n",
       "    <tr>\n",
       "      <th>0</th>\n",
       "      <td>3369605</td>\n",
       "      <td>100421</td>\n",
       "      <td>RxNorm:190521</td>\n",
       "      <td>{'HLA-B': 'Low or reduced risk of abacavir hyp...</td>\n",
       "      <td>Use abacavir per standard dosing guidelines</td>\n",
       "      <td>Strong</td>\n",
       "      <td>{}</td>\n",
       "      <td>{}</td>\n",
       "      <td>{'HLA-B': 'HLA-B*57:01 negative'}</td>\n",
       "      <td>{'HLA-B': '*57:01 negative'}</td>\n",
       "      <td>general</td>\n",
       "      <td>n/a</td>\n",
       "      <td>1</td>\n",
       "      <td>False</td>\n",
       "      <td>False</td>\n",
       "      <td>False</td>\n",
       "    </tr>\n",
       "    <tr>\n",
       "      <th>1</th>\n",
       "      <td>3369606</td>\n",
       "      <td>100421</td>\n",
       "      <td>RxNorm:190521</td>\n",
       "      <td>{'HLA-B': 'Significantly increased risk of aba...</td>\n",
       "      <td>Abacavir is not recommended</td>\n",
       "      <td>Strong</td>\n",
       "      <td>{}</td>\n",
       "      <td>{}</td>\n",
       "      <td>{'HLA-B': 'HLA-B*57:01 positive'}</td>\n",
       "      <td>{'HLA-B': '*57:01 positive'}</td>\n",
       "      <td>general</td>\n",
       "      <td>n/a</td>\n",
       "      <td>1</td>\n",
       "      <td>False</td>\n",
       "      <td>False</td>\n",
       "      <td>False</td>\n",
       "    </tr>\n",
       "    <tr>\n",
       "      <th>2</th>\n",
       "      <td>3369607</td>\n",
       "      <td>100422</td>\n",
       "      <td>RxNorm:519</td>\n",
       "      <td>{'HLA-B': 'Low or reduced risk of allopurinol-...</td>\n",
       "      <td>Use allopurinol per standard dosing guidelines</td>\n",
       "      <td>Strong</td>\n",
       "      <td>{}</td>\n",
       "      <td>{}</td>\n",
       "      <td>{'HLA-B': 'HLA-B*58:01 negative'}</td>\n",
       "      <td>{'HLA-B': '*58:01 negative'}</td>\n",
       "      <td>general</td>\n",
       "      <td>n/a</td>\n",
       "      <td>1</td>\n",
       "      <td>False</td>\n",
       "      <td>False</td>\n",
       "      <td>False</td>\n",
       "    </tr>\n",
       "    <tr>\n",
       "      <th>3</th>\n",
       "      <td>3369608</td>\n",
       "      <td>100422</td>\n",
       "      <td>RxNorm:519</td>\n",
       "      <td>{'HLA-B': 'Significantly increased risk of all...</td>\n",
       "      <td>Allopurinol is contraindicated</td>\n",
       "      <td>Strong</td>\n",
       "      <td>{}</td>\n",
       "      <td>{}</td>\n",
       "      <td>{'HLA-B': 'HLA-B*58:01 positive'}</td>\n",
       "      <td>{'HLA-B': '*58:01 positive'}</td>\n",
       "      <td>general</td>\n",
       "      <td>n/a</td>\n",
       "      <td>1</td>\n",
       "      <td>False</td>\n",
       "      <td>False</td>\n",
       "      <td>False</td>\n",
       "    </tr>\n",
       "    <tr>\n",
       "      <th>4</th>\n",
       "      <td>3369609</td>\n",
       "      <td>826283</td>\n",
       "      <td>RxNorm:641</td>\n",
       "      <td>{'MT-RNR1': 'Very high risk of developing hear...</td>\n",
       "      <td>Avoid aminoglycoside anitbiotics unless the hi...</td>\n",
       "      <td>Strong</td>\n",
       "      <td>{'MT-RNR1': 'increased risk of aminoglycoside-...</td>\n",
       "      <td>{}</td>\n",
       "      <td>{}</td>\n",
       "      <td>{'MT-RNR1': 'increased risk of aminoglycoside-...</td>\n",
       "      <td>general</td>\n",
       "      <td>If no effective alternative to an aminoglycosi...</td>\n",
       "      <td>1</td>\n",
       "      <td>False</td>\n",
       "      <td>False</td>\n",
       "      <td>False</td>\n",
       "    </tr>\n",
       "    <tr>\n",
       "      <th>5</th>\n",
       "      <td>3369610</td>\n",
       "      <td>826283</td>\n",
       "      <td>RxNorm:641</td>\n",
       "      <td>{'MT-RNR1': 'Normal risk of developing hearing...</td>\n",
       "      <td>Use aminoglycoside antibiotics at standard dos...</td>\n",
       "      <td>Strong</td>\n",
       "      <td>{'MT-RNR1': 'normal risk of aminoglycoside-ind...</td>\n",
       "      <td>{}</td>\n",
       "      <td>{}</td>\n",
       "      <td>{'MT-RNR1': 'normal risk of aminoglycoside-ind...</td>\n",
       "      <td>general</td>\n",
       "      <td>Individuals without MT-RNR1 aminoglycoside-ind...</td>\n",
       "      <td>1</td>\n",
       "      <td>False</td>\n",
       "      <td>False</td>\n",
       "      <td>False</td>\n",
       "    </tr>\n",
       "    <tr>\n",
       "      <th>6</th>\n",
       "      <td>3369611</td>\n",
       "      <td>826283</td>\n",
       "      <td>RxNorm:641</td>\n",
       "      <td>{'MT-RNR1': 'Weak or no evidence for an increa...</td>\n",
       "      <td>Use aminoglycoside antibiotics at standard dos...</td>\n",
       "      <td>Optional</td>\n",
       "      <td>{'MT-RNR1': 'uncertain risk of aminoglycoside-...</td>\n",
       "      <td>{}</td>\n",
       "      <td>{}</td>\n",
       "      <td>{'MT-RNR1': 'uncertain risk of aminoglycoside-...</td>\n",
       "      <td>general</td>\n",
       "      <td>Individuals without MT-RNR1 aminoglycoside-ind...</td>\n",
       "      <td>1</td>\n",
       "      <td>False</td>\n",
       "      <td>False</td>\n",
       "      <td>False</td>\n",
       "    </tr>\n",
       "    <tr>\n",
       "      <th>7</th>\n",
       "      <td>3369612</td>\n",
       "      <td>826283</td>\n",
       "      <td>ATC:D06AX07</td>\n",
       "      <td>{'MT-RNR1': 'Very high risk of developing hear...</td>\n",
       "      <td>Avoid aminoglycoside anitbiotics unless the hi...</td>\n",
       "      <td>Strong</td>\n",
       "      <td>{'MT-RNR1': 'increased risk of aminoglycoside-...</td>\n",
       "      <td>{}</td>\n",
       "      <td>{}</td>\n",
       "      <td>{'MT-RNR1': 'increased risk of aminoglycoside-...</td>\n",
       "      <td>general</td>\n",
       "      <td>If no effective alternative to an aminoglycosi...</td>\n",
       "      <td>1</td>\n",
       "      <td>False</td>\n",
       "      <td>False</td>\n",
       "      <td>False</td>\n",
       "    </tr>\n",
       "    <tr>\n",
       "      <th>8</th>\n",
       "      <td>3369613</td>\n",
       "      <td>826283</td>\n",
       "      <td>ATC:D06AX07</td>\n",
       "      <td>{'MT-RNR1': 'Normal risk of developing hearing...</td>\n",
       "      <td>Use aminoglycoside antibiotics at standard dos...</td>\n",
       "      <td>Strong</td>\n",
       "      <td>{'MT-RNR1': 'normal risk of aminoglycoside-ind...</td>\n",
       "      <td>{}</td>\n",
       "      <td>{}</td>\n",
       "      <td>{'MT-RNR1': 'normal risk of aminoglycoside-ind...</td>\n",
       "      <td>general</td>\n",
       "      <td>Individuals without MT-RNR1 aminoglycoside-ind...</td>\n",
       "      <td>1</td>\n",
       "      <td>False</td>\n",
       "      <td>False</td>\n",
       "      <td>False</td>\n",
       "    </tr>\n",
       "    <tr>\n",
       "      <th>9</th>\n",
       "      <td>3369614</td>\n",
       "      <td>826283</td>\n",
       "      <td>ATC:D06AX07</td>\n",
       "      <td>{'MT-RNR1': 'Weak or no evidence for an increa...</td>\n",
       "      <td>Use aminoglycoside antibiotics at standard dos...</td>\n",
       "      <td>Optional</td>\n",
       "      <td>{'MT-RNR1': 'uncertain risk of aminoglycoside-...</td>\n",
       "      <td>{}</td>\n",
       "      <td>{}</td>\n",
       "      <td>{'MT-RNR1': 'uncertain risk of aminoglycoside-...</td>\n",
       "      <td>general</td>\n",
       "      <td>Individuals without MT-RNR1 aminoglycoside-ind...</td>\n",
       "      <td>1</td>\n",
       "      <td>False</td>\n",
       "      <td>False</td>\n",
       "      <td>False</td>\n",
       "    </tr>\n",
       "  </tbody>\n",
       "</table>\n",
       "</div>"
      ],
      "text/plain": [
       "        id  guidelineid         drugid   \n",
       "0  3369605       100421  RxNorm:190521  \\\n",
       "1  3369606       100421  RxNorm:190521   \n",
       "2  3369607       100422     RxNorm:519   \n",
       "3  3369608       100422     RxNorm:519   \n",
       "4  3369609       826283     RxNorm:641   \n",
       "5  3369610       826283     RxNorm:641   \n",
       "6  3369611       826283     RxNorm:641   \n",
       "7  3369612       826283    ATC:D06AX07   \n",
       "8  3369613       826283    ATC:D06AX07   \n",
       "9  3369614       826283    ATC:D06AX07   \n",
       "\n",
       "                                        implications   \n",
       "0  {'HLA-B': 'Low or reduced risk of abacavir hyp...  \\\n",
       "1  {'HLA-B': 'Significantly increased risk of aba...   \n",
       "2  {'HLA-B': 'Low or reduced risk of allopurinol-...   \n",
       "3  {'HLA-B': 'Significantly increased risk of all...   \n",
       "4  {'MT-RNR1': 'Very high risk of developing hear...   \n",
       "5  {'MT-RNR1': 'Normal risk of developing hearing...   \n",
       "6  {'MT-RNR1': 'Weak or no evidence for an increa...   \n",
       "7  {'MT-RNR1': 'Very high risk of developing hear...   \n",
       "8  {'MT-RNR1': 'Normal risk of developing hearing...   \n",
       "9  {'MT-RNR1': 'Weak or no evidence for an increa...   \n",
       "\n",
       "                                  drugrecommendation classification   \n",
       "0        Use abacavir per standard dosing guidelines         Strong  \\\n",
       "1                        Abacavir is not recommended         Strong   \n",
       "2     Use allopurinol per standard dosing guidelines         Strong   \n",
       "3                     Allopurinol is contraindicated         Strong   \n",
       "4  Avoid aminoglycoside anitbiotics unless the hi...         Strong   \n",
       "5  Use aminoglycoside antibiotics at standard dos...         Strong   \n",
       "6  Use aminoglycoside antibiotics at standard dos...       Optional   \n",
       "7  Avoid aminoglycoside anitbiotics unless the hi...         Strong   \n",
       "8  Use aminoglycoside antibiotics at standard dos...         Strong   \n",
       "9  Use aminoglycoside antibiotics at standard dos...       Optional   \n",
       "\n",
       "                                          phenotypes activityscore   \n",
       "0                                                 {}            {}  \\\n",
       "1                                                 {}            {}   \n",
       "2                                                 {}            {}   \n",
       "3                                                 {}            {}   \n",
       "4  {'MT-RNR1': 'increased risk of aminoglycoside-...            {}   \n",
       "5  {'MT-RNR1': 'normal risk of aminoglycoside-ind...            {}   \n",
       "6  {'MT-RNR1': 'uncertain risk of aminoglycoside-...            {}   \n",
       "7  {'MT-RNR1': 'increased risk of aminoglycoside-...            {}   \n",
       "8  {'MT-RNR1': 'normal risk of aminoglycoside-ind...            {}   \n",
       "9  {'MT-RNR1': 'uncertain risk of aminoglycoside-...            {}   \n",
       "\n",
       "                        allelestatus   \n",
       "0  {'HLA-B': 'HLA-B*57:01 negative'}  \\\n",
       "1  {'HLA-B': 'HLA-B*57:01 positive'}   \n",
       "2  {'HLA-B': 'HLA-B*58:01 negative'}   \n",
       "3  {'HLA-B': 'HLA-B*58:01 positive'}   \n",
       "4                                 {}   \n",
       "5                                 {}   \n",
       "6                                 {}   \n",
       "7                                 {}   \n",
       "8                                 {}   \n",
       "9                                 {}   \n",
       "\n",
       "                                           lookupkey population   \n",
       "0                       {'HLA-B': '*57:01 negative'}    general  \\\n",
       "1                       {'HLA-B': '*57:01 positive'}    general   \n",
       "2                       {'HLA-B': '*58:01 negative'}    general   \n",
       "3                       {'HLA-B': '*58:01 positive'}    general   \n",
       "4  {'MT-RNR1': 'increased risk of aminoglycoside-...    general   \n",
       "5  {'MT-RNR1': 'normal risk of aminoglycoside-ind...    general   \n",
       "6  {'MT-RNR1': 'uncertain risk of aminoglycoside-...    general   \n",
       "7  {'MT-RNR1': 'increased risk of aminoglycoside-...    general   \n",
       "8  {'MT-RNR1': 'normal risk of aminoglycoside-ind...    general   \n",
       "9  {'MT-RNR1': 'uncertain risk of aminoglycoside-...    general   \n",
       "\n",
       "                                            comments  version   \n",
       "0                                                n/a        1  \\\n",
       "1                                                n/a        1   \n",
       "2                                                n/a        1   \n",
       "3                                                n/a        1   \n",
       "4  If no effective alternative to an aminoglycosi...        1   \n",
       "5  Individuals without MT-RNR1 aminoglycoside-ind...        1   \n",
       "6  Individuals without MT-RNR1 aminoglycoside-ind...        1   \n",
       "7  If no effective alternative to an aminoglycosi...        1   \n",
       "8  Individuals without MT-RNR1 aminoglycoside-ind...        1   \n",
       "9  Individuals without MT-RNR1 aminoglycoside-ind...        1   \n",
       "\n",
       "   dosinginformation  alternatedrugavailable  otherprescribingguidance  \n",
       "0              False                   False                     False  \n",
       "1              False                   False                     False  \n",
       "2              False                   False                     False  \n",
       "3              False                   False                     False  \n",
       "4              False                   False                     False  \n",
       "5              False                   False                     False  \n",
       "6              False                   False                     False  \n",
       "7              False                   False                     False  \n",
       "8              False                   False                     False  \n",
       "9              False                   False                     False  "
      ]
     },
     "execution_count": 9,
     "metadata": {},
     "output_type": "execute_result"
    }
   ],
   "source": [
    "df_recommendations.head(10)"
   ]
  },
  {
   "cell_type": "code",
   "execution_count": 10,
   "metadata": {
    "colab": {
     "base_uri": "https://localhost:8080/"
    },
    "id": "c-NLTTcU--Cd",
    "outputId": "5bd03e59-d855-4162-f0aa-4f4e788c8ad5"
   },
   "outputs": [
    {
     "data": {
      "text/plain": [
       "(2098, 16)"
      ]
     },
     "execution_count": 10,
     "metadata": {},
     "output_type": "execute_result"
    }
   ],
   "source": [
    "df_recommendations.shape"
   ]
  },
  {
   "cell_type": "code",
   "execution_count": 11,
   "metadata": {
    "id": "WUiBIYVTv3Tp"
   },
   "outputs": [],
   "source": [
    "recommendations_new = df_recommendations[['drugid', 'implications', 'drugrecommendation', 'classification', 'phenotypes', 'activityscore', 'allelestatus', 'lookupkey', 'comments']]\n",
    "# drugid = The drug this recommendation is for\n",
    "# implications = Implications for phenotypic measures, this is a JSON mapping of gene to implication\n",
    "# drugrecommendation = Dosing or therapeutic recommendations, depending on particular drug\n",
    "# classification = Classification of recommendations, described in supplementary meterial\n",
    "# phenotypes = Phenotypes that this recommendation applies to, this is a JSON mapping of gene to phenotype\n",
    "# activityscore = Activity score that this recommendation applies to, this is a JSON mapping of gene to score value\n",
    "# allelestatus = Whether or not an allele is present, used mainly for HLA genes, and used for recommendation lookups. This is a JSON mapping of gene to allele status (positive/negative)\n",
    "# lookupkey = A key to use for finding a specific recommendation. Made of a JSON object of gene symbol to key value. The key value can be one of phenotype, activity score, or allele status depending on the gene.\n",
    "# comments = Optional comments about the recommendation"
   ]
  },
  {
   "cell_type": "code",
   "execution_count": 12,
   "metadata": {
    "colab": {
     "base_uri": "https://localhost:8080/"
    },
    "id": "0ryXoOyfxEdt",
    "outputId": "c4c4aca4-5e96-45fa-ef10-4dcc7e4ceba2"
   },
   "outputs": [
    {
     "data": {
      "text/plain": [
       "dosinginformation\n",
       "False    2098\n",
       "Name: count, dtype: int64"
      ]
     },
     "execution_count": 12,
     "metadata": {},
     "output_type": "execute_result"
    }
   ],
   "source": [
    "df_recommendations['dosinginformation'].value_counts()"
   ]
  },
  {
   "cell_type": "code",
   "execution_count": 13,
   "metadata": {
    "colab": {
     "base_uri": "https://localhost:8080/"
    },
    "id": "RMsL40S4xPdl",
    "outputId": "b7942846-955f-4c68-e0be-9938010f843f"
   },
   "outputs": [
    {
     "data": {
      "text/plain": [
       "drugrecommendation\n",
       "Initiate therapy with recommended starting dose.    172\n",
       "No recommendation                                   112\n",
       "Name: count, dtype: int64"
      ]
     },
     "execution_count": 13,
     "metadata": {},
     "output_type": "execute_result"
    }
   ],
   "source": [
    "df_recommendations['drugrecommendation'].value_counts().head(2)"
   ]
  },
  {
   "cell_type": "markdown",
   "metadata": {
    "id": "-os_NxZgu49r"
   },
   "source": [
    "### Test alert"
   ]
  },
  {
   "cell_type": "code",
   "execution_count": 14,
   "metadata": {
    "colab": {
     "base_uri": "https://localhost:8080/",
     "height": 191
    },
    "id": "cOX3W6tZrdnR",
    "outputId": "5278501a-8a78-4b0b-b20a-b27e368045d9"
   },
   "outputs": [
    {
     "data": {
      "text/html": [
       "<div>\n",
       "<style scoped>\n",
       "    .dataframe tbody tr th:only-of-type {\n",
       "        vertical-align: middle;\n",
       "    }\n",
       "\n",
       "    .dataframe tbody tr th {\n",
       "        vertical-align: top;\n",
       "    }\n",
       "\n",
       "    .dataframe thead th {\n",
       "        text-align: right;\n",
       "    }\n",
       "</style>\n",
       "<table border=\"1\" class=\"dataframe\">\n",
       "  <thead>\n",
       "    <tr style=\"text-align: right;\">\n",
       "      <th></th>\n",
       "      <th>id</th>\n",
       "      <th>population</th>\n",
       "      <th>cdscontext</th>\n",
       "      <th>genes</th>\n",
       "      <th>phenotype</th>\n",
       "      <th>activityscore</th>\n",
       "      <th>allelestatus</th>\n",
       "      <th>lookupkey</th>\n",
       "      <th>drugid</th>\n",
       "      <th>alerttext</th>\n",
       "      <th>version</th>\n",
       "    </tr>\n",
       "  </thead>\n",
       "  <tbody>\n",
       "    <tr>\n",
       "      <th>0</th>\n",
       "      <td>3371703</td>\n",
       "      <td>general</td>\n",
       "      <td>Post-test</td>\n",
       "      <td>[CYP2D6, CYP2C19]</td>\n",
       "      <td>{'CYP2D6': 'Poor Metabolizer', 'CYP2C19': 'No ...</td>\n",
       "      <td>{'CYP2D6': '0.0', 'CYP2C19': 'No result on file'}</td>\n",
       "      <td>{}</td>\n",
       "      <td>{'CYP2D6': '0.0', 'CYP2C19': 'No Result'}</td>\n",
       "      <td>RxNorm:704</td>\n",
       "      <td>[CYP2D6 and CYP2C19 genetic status may be pred...</td>\n",
       "      <td>1</td>\n",
       "    </tr>\n",
       "    <tr>\n",
       "      <th>1</th>\n",
       "      <td>3371704</td>\n",
       "      <td>general</td>\n",
       "      <td>Post-test</td>\n",
       "      <td>[CYP2D6, CYP2C19]</td>\n",
       "      <td>{'CYP2D6': 'Intermediate Metabolizer', 'CYP2C1...</td>\n",
       "      <td>{'CYP2D6': '0.25', 'CYP2C19': 'No result on fi...</td>\n",
       "      <td>{}</td>\n",
       "      <td>{'CYP2D6': '0.25', 'CYP2C19': 'No Result'}</td>\n",
       "      <td>RxNorm:704</td>\n",
       "      <td>[CYP2D6 and CYP2C19 genetic status may be pred...</td>\n",
       "      <td>1</td>\n",
       "    </tr>\n",
       "    <tr>\n",
       "      <th>2</th>\n",
       "      <td>3371705</td>\n",
       "      <td>general</td>\n",
       "      <td>Post-test</td>\n",
       "      <td>[CYP2D6, CYP2C19]</td>\n",
       "      <td>{'CYP2D6': 'Intermediate Metabolizer', 'CYP2C1...</td>\n",
       "      <td>{'CYP2D6': '0.5', 'CYP2C19': 'No result on file'}</td>\n",
       "      <td>{}</td>\n",
       "      <td>{'CYP2D6': '0.5', 'CYP2C19': 'No Result'}</td>\n",
       "      <td>RxNorm:704</td>\n",
       "      <td>[CYP2D6 and CYP2C19 genetic status may be pred...</td>\n",
       "      <td>1</td>\n",
       "    </tr>\n",
       "    <tr>\n",
       "      <th>3</th>\n",
       "      <td>3371706</td>\n",
       "      <td>general</td>\n",
       "      <td>Post-test</td>\n",
       "      <td>[CYP2D6, CYP2C19]</td>\n",
       "      <td>{'CYP2D6': 'Intermediate Metabolizer', 'CYP2C1...</td>\n",
       "      <td>{'CYP2D6': '0.75', 'CYP2C19': 'No result on fi...</td>\n",
       "      <td>{}</td>\n",
       "      <td>{'CYP2D6': '0.75', 'CYP2C19': 'No Result'}</td>\n",
       "      <td>RxNorm:704</td>\n",
       "      <td>[CYP2D6 and CYP2C19 genetic status may be pred...</td>\n",
       "      <td>1</td>\n",
       "    </tr>\n",
       "    <tr>\n",
       "      <th>4</th>\n",
       "      <td>3371707</td>\n",
       "      <td>general</td>\n",
       "      <td>Post-test</td>\n",
       "      <td>[CYP2D6, CYP2C19]</td>\n",
       "      <td>{'CYP2D6': 'Intermediate Metabolizer', 'CYP2C1...</td>\n",
       "      <td>{'CYP2D6': '1.0', 'CYP2C19': 'No result on file'}</td>\n",
       "      <td>{}</td>\n",
       "      <td>{'CYP2D6': '1.0', 'CYP2C19': 'No Result'}</td>\n",
       "      <td>RxNorm:704</td>\n",
       "      <td>[CYP2D6 and CYP2C19 genetic status may be pred...</td>\n",
       "      <td>1</td>\n",
       "    </tr>\n",
       "    <tr>\n",
       "      <th>5</th>\n",
       "      <td>3371708</td>\n",
       "      <td>general</td>\n",
       "      <td>Post-test</td>\n",
       "      <td>[CYP2D6, CYP2C19]</td>\n",
       "      <td>{'CYP2D6': 'Normal Metabolizer', 'CYP2C19': 'N...</td>\n",
       "      <td>{'CYP2D6': '1.25', 'CYP2C19': 'No result on fi...</td>\n",
       "      <td>{}</td>\n",
       "      <td>{'CYP2D6': '1.25', 'CYP2C19': 'No Result'}</td>\n",
       "      <td>RxNorm:704</td>\n",
       "      <td>[CYP2D6 and CYP2C19 genetic status may be pred...</td>\n",
       "      <td>1</td>\n",
       "    </tr>\n",
       "    <tr>\n",
       "      <th>6</th>\n",
       "      <td>3371709</td>\n",
       "      <td>general</td>\n",
       "      <td>Post-test</td>\n",
       "      <td>[CYP2D6, CYP2C19]</td>\n",
       "      <td>{'CYP2D6': 'Normal Metabolizer', 'CYP2C19': 'N...</td>\n",
       "      <td>{'CYP2D6': '1.5', 'CYP2C19': 'No result on file'}</td>\n",
       "      <td>{}</td>\n",
       "      <td>{'CYP2D6': '1.5', 'CYP2C19': 'No Result'}</td>\n",
       "      <td>RxNorm:704</td>\n",
       "      <td>[CYP2D6 and CYP2C19 genetic status may be pred...</td>\n",
       "      <td>1</td>\n",
       "    </tr>\n",
       "    <tr>\n",
       "      <th>7</th>\n",
       "      <td>3371710</td>\n",
       "      <td>general</td>\n",
       "      <td>Post-test</td>\n",
       "      <td>[CYP2D6, CYP2C19]</td>\n",
       "      <td>{'CYP2D6': 'Normal Metabolizer', 'CYP2C19': 'N...</td>\n",
       "      <td>{'CYP2D6': '1.75', 'CYP2C19': 'No result on fi...</td>\n",
       "      <td>{}</td>\n",
       "      <td>{'CYP2D6': '1.75', 'CYP2C19': 'No Result'}</td>\n",
       "      <td>RxNorm:704</td>\n",
       "      <td>[CYP2D6 and CYP2C19 genetic status may be pred...</td>\n",
       "      <td>1</td>\n",
       "    </tr>\n",
       "    <tr>\n",
       "      <th>8</th>\n",
       "      <td>3371711</td>\n",
       "      <td>general</td>\n",
       "      <td>Post-test</td>\n",
       "      <td>[CYP2D6, CYP2C19]</td>\n",
       "      <td>{'CYP2D6': 'Normal Metabolizer', 'CYP2C19': 'N...</td>\n",
       "      <td>{'CYP2D6': '2.0', 'CYP2C19': 'No result on file'}</td>\n",
       "      <td>{}</td>\n",
       "      <td>{'CYP2D6': '2.0', 'CYP2C19': 'No Result'}</td>\n",
       "      <td>RxNorm:704</td>\n",
       "      <td>[CYP2D6 and CYP2C19 genetic status may be pred...</td>\n",
       "      <td>1</td>\n",
       "    </tr>\n",
       "    <tr>\n",
       "      <th>9</th>\n",
       "      <td>3372747</td>\n",
       "      <td>non-H.pylori_erosive eso</td>\n",
       "      <td>No CDS</td>\n",
       "      <td>[CYP2C19]</td>\n",
       "      <td>{'CYP2C19': 'Normal Metabolizer'}</td>\n",
       "      <td>{'CYP2C19': 'n/a'}</td>\n",
       "      <td>{}</td>\n",
       "      <td>{'CYP2C19': 'Normal Metabolizer'}</td>\n",
       "      <td>RxNorm:17128</td>\n",
       "      <td>[n/a]</td>\n",
       "      <td>1</td>\n",
       "    </tr>\n",
       "  </tbody>\n",
       "</table>\n",
       "</div>"
      ],
      "text/plain": [
       "        id                population cdscontext              genes   \n",
       "0  3371703                   general  Post-test  [CYP2D6, CYP2C19]  \\\n",
       "1  3371704                   general  Post-test  [CYP2D6, CYP2C19]   \n",
       "2  3371705                   general  Post-test  [CYP2D6, CYP2C19]   \n",
       "3  3371706                   general  Post-test  [CYP2D6, CYP2C19]   \n",
       "4  3371707                   general  Post-test  [CYP2D6, CYP2C19]   \n",
       "5  3371708                   general  Post-test  [CYP2D6, CYP2C19]   \n",
       "6  3371709                   general  Post-test  [CYP2D6, CYP2C19]   \n",
       "7  3371710                   general  Post-test  [CYP2D6, CYP2C19]   \n",
       "8  3371711                   general  Post-test  [CYP2D6, CYP2C19]   \n",
       "9  3372747  non-H.pylori_erosive eso     No CDS          [CYP2C19]   \n",
       "\n",
       "                                           phenotype   \n",
       "0  {'CYP2D6': 'Poor Metabolizer', 'CYP2C19': 'No ...  \\\n",
       "1  {'CYP2D6': 'Intermediate Metabolizer', 'CYP2C1...   \n",
       "2  {'CYP2D6': 'Intermediate Metabolizer', 'CYP2C1...   \n",
       "3  {'CYP2D6': 'Intermediate Metabolizer', 'CYP2C1...   \n",
       "4  {'CYP2D6': 'Intermediate Metabolizer', 'CYP2C1...   \n",
       "5  {'CYP2D6': 'Normal Metabolizer', 'CYP2C19': 'N...   \n",
       "6  {'CYP2D6': 'Normal Metabolizer', 'CYP2C19': 'N...   \n",
       "7  {'CYP2D6': 'Normal Metabolizer', 'CYP2C19': 'N...   \n",
       "8  {'CYP2D6': 'Normal Metabolizer', 'CYP2C19': 'N...   \n",
       "9                  {'CYP2C19': 'Normal Metabolizer'}   \n",
       "\n",
       "                                       activityscore allelestatus   \n",
       "0  {'CYP2D6': '0.0', 'CYP2C19': 'No result on file'}           {}  \\\n",
       "1  {'CYP2D6': '0.25', 'CYP2C19': 'No result on fi...           {}   \n",
       "2  {'CYP2D6': '0.5', 'CYP2C19': 'No result on file'}           {}   \n",
       "3  {'CYP2D6': '0.75', 'CYP2C19': 'No result on fi...           {}   \n",
       "4  {'CYP2D6': '1.0', 'CYP2C19': 'No result on file'}           {}   \n",
       "5  {'CYP2D6': '1.25', 'CYP2C19': 'No result on fi...           {}   \n",
       "6  {'CYP2D6': '1.5', 'CYP2C19': 'No result on file'}           {}   \n",
       "7  {'CYP2D6': '1.75', 'CYP2C19': 'No result on fi...           {}   \n",
       "8  {'CYP2D6': '2.0', 'CYP2C19': 'No result on file'}           {}   \n",
       "9                                 {'CYP2C19': 'n/a'}           {}   \n",
       "\n",
       "                                    lookupkey        drugid   \n",
       "0   {'CYP2D6': '0.0', 'CYP2C19': 'No Result'}    RxNorm:704  \\\n",
       "1  {'CYP2D6': '0.25', 'CYP2C19': 'No Result'}    RxNorm:704   \n",
       "2   {'CYP2D6': '0.5', 'CYP2C19': 'No Result'}    RxNorm:704   \n",
       "3  {'CYP2D6': '0.75', 'CYP2C19': 'No Result'}    RxNorm:704   \n",
       "4   {'CYP2D6': '1.0', 'CYP2C19': 'No Result'}    RxNorm:704   \n",
       "5  {'CYP2D6': '1.25', 'CYP2C19': 'No Result'}    RxNorm:704   \n",
       "6   {'CYP2D6': '1.5', 'CYP2C19': 'No Result'}    RxNorm:704   \n",
       "7  {'CYP2D6': '1.75', 'CYP2C19': 'No Result'}    RxNorm:704   \n",
       "8   {'CYP2D6': '2.0', 'CYP2C19': 'No Result'}    RxNorm:704   \n",
       "9           {'CYP2C19': 'Normal Metabolizer'}  RxNorm:17128   \n",
       "\n",
       "                                           alerttext  version  \n",
       "0  [CYP2D6 and CYP2C19 genetic status may be pred...        1  \n",
       "1  [CYP2D6 and CYP2C19 genetic status may be pred...        1  \n",
       "2  [CYP2D6 and CYP2C19 genetic status may be pred...        1  \n",
       "3  [CYP2D6 and CYP2C19 genetic status may be pred...        1  \n",
       "4  [CYP2D6 and CYP2C19 genetic status may be pred...        1  \n",
       "5  [CYP2D6 and CYP2C19 genetic status may be pred...        1  \n",
       "6  [CYP2D6 and CYP2C19 genetic status may be pred...        1  \n",
       "7  [CYP2D6 and CYP2C19 genetic status may be pred...        1  \n",
       "8  [CYP2D6 and CYP2C19 genetic status may be pred...        1  \n",
       "9                                              [n/a]        1  "
      ]
     },
     "execution_count": 14,
     "metadata": {},
     "output_type": "execute_result"
    }
   ],
   "source": [
    "df_test_alert.head(10)"
   ]
  },
  {
   "cell_type": "code",
   "execution_count": 15,
   "metadata": {
    "id": "rJ4JIoHPyCzZ"
   },
   "outputs": [],
   "source": [
    "test_alert_new = df_test_alert[['drugid', 'genes', 'phenotype', 'activityscore', 'allelestatus', 'lookupkey', 'alerttext']]\n",
    "# drugid = The ID of a drug this alert text is for\n",
    "# genes = One or more genes this test alert uses for trigger conditions\n",
    "# phenotype = A JSON object of gene symbol keys to phenotype description\n",
    "# activityscore = A JSON object of gene symbol keys to gene activity score\n",
    "# allelestatus = Whether or not an allele is present, used mainly for HLA genes. This is a JSON mapping of gene to allele status (positive/negative)\n",
    "# lookupkey = A key to use for finding a specific test alert. Made of a JSON object of gene symbol to key value. The key value can be one of phenotype, activity score, or allele status depending on the gene.\n",
    "# alerttext = An array of one or more pieces of alert text"
   ]
  },
  {
   "cell_type": "code",
   "execution_count": 16,
   "metadata": {
    "colab": {
     "base_uri": "https://localhost:8080/"
    },
    "id": "MgZ1_jg5yLd_",
    "outputId": "97d9cc93-20b5-4198-b4c5-6e9034f3ad90"
   },
   "outputs": [
    {
     "data": {
      "text/plain": [
       "genes\n",
       "[CYP2D6, CYP2C19]    1035\n",
       "[CYP2D6]              321\n",
       "[G6PD]                198\n",
       "[CYP2C19]             117\n",
       "[TPMT, NUDT15]        108\n",
       "[CYP2B6, CYP2C19]      63\n",
       "[CYP2C9]               49\n",
       "[CYP2C9, SLCO1B1]      49\n",
       "[MT-RNR1]              44\n",
       "[RYR1, CACNA1S]        42\n",
       "[CYP2C9, HLA-B]        42\n",
       "[SLCO1B1]              35\n",
       "[SLCO1B1, ABCG2]       28\n",
       "[DPYD]                 12\n",
       "[HLA-B, HLA-A]          9\n",
       "[HLA-B]                 9\n",
       "[CYP2B6]                7\n",
       "[CYP3A5]                6\n",
       "[UGT1A1]                5\n",
       "Name: count, dtype: int64"
      ]
     },
     "execution_count": 16,
     "metadata": {},
     "output_type": "execute_result"
    }
   ],
   "source": [
    "df_test_alert['genes'].value_counts()"
   ]
  },
  {
   "cell_type": "code",
   "execution_count": 17,
   "metadata": {
    "colab": {
     "base_uri": "https://localhost:8080/"
    },
    "id": "AP2QCNO_vK7-",
    "outputId": "afc80ebe-dc26-471d-c0e5-3a61fd506b16"
   },
   "outputs": [
    {
     "data": {
      "text/plain": [
       "['n/a']"
      ]
     },
     "execution_count": 17,
     "metadata": {},
     "output_type": "execute_result"
    }
   ],
   "source": [
    "df_test_alert['alerttext'][10]"
   ]
  },
  {
   "cell_type": "code",
   "execution_count": 18,
   "metadata": {},
   "outputs": [
    {
     "data": {
      "text/plain": [
       "['CYP2D6 and CYP2C19 genetic status may be predictive of an adverse reaction or poor response to this medication due to altered drug metabolism. This patient is predicted to be a CYP2D6 intermediate metabolizer and a CYP2C19 ultrarapid metabolizer. The patient may be at an increased risk of a sub-optimal response. Consider selecting an alternative drug. If amitriptyline is warranted utilize therapeutic drug monitoring to guide dose adjustments. Please consult a clinical pharmacist for more information.']"
      ]
     },
     "execution_count": 18,
     "metadata": {},
     "output_type": "execute_result"
    }
   ],
   "source": [
    "df_test_alert['alerttext'] = df_test_alert['alerttext'].replace('n/a', 'consult a clinical doctor')\n",
    "df_test_alert['alerttext'][100]"
   ]
  },
  {
   "cell_type": "markdown",
   "metadata": {
    "id": "cualHq9ozloS"
   },
   "source": [
    "## Creating 1 dataframe with everything we will need."
   ]
  },
  {
   "cell_type": "code",
   "execution_count": 19,
   "metadata": {
    "colab": {
     "base_uri": "https://localhost:8080/",
     "height": 1000
    },
    "id": "OzWFrmq2whbs",
    "outputId": "b1e93430-1f59-4929-ee62-2fa43ce47063"
   },
   "outputs": [
    {
     "data": {
      "text/html": [
       "<div>\n",
       "<style scoped>\n",
       "    .dataframe tbody tr th:only-of-type {\n",
       "        vertical-align: middle;\n",
       "    }\n",
       "\n",
       "    .dataframe tbody tr th {\n",
       "        vertical-align: top;\n",
       "    }\n",
       "\n",
       "    .dataframe thead th {\n",
       "        text-align: right;\n",
       "    }\n",
       "</style>\n",
       "<table border=\"1\" class=\"dataframe\">\n",
       "  <thead>\n",
       "    <tr style=\"text-align: right;\">\n",
       "      <th></th>\n",
       "      <th>drugid</th>\n",
       "      <th>name</th>\n",
       "      <th>implications</th>\n",
       "      <th>drugrecommendation</th>\n",
       "      <th>classification</th>\n",
       "      <th>phenotypes</th>\n",
       "      <th>activityscore_x</th>\n",
       "      <th>allelestatus_x</th>\n",
       "      <th>lookupkey_x</th>\n",
       "      <th>comments</th>\n",
       "      <th>genes</th>\n",
       "      <th>phenotype</th>\n",
       "      <th>activityscore_y</th>\n",
       "      <th>allelestatus_y</th>\n",
       "      <th>lookupkey_y</th>\n",
       "      <th>alerttext</th>\n",
       "    </tr>\n",
       "  </thead>\n",
       "  <tbody>\n",
       "    <tr>\n",
       "      <th>0</th>\n",
       "      <td>RxNorm:10627</td>\n",
       "      <td>tobramycin</td>\n",
       "      <td>{'MT-RNR1': 'Very high risk of developing hear...</td>\n",
       "      <td>Avoid aminoglycoside anitbiotics unless the hi...</td>\n",
       "      <td>Strong</td>\n",
       "      <td>{'MT-RNR1': 'increased risk of aminoglycoside-...</td>\n",
       "      <td>{}</td>\n",
       "      <td>{}</td>\n",
       "      <td>{'MT-RNR1': 'increased risk of aminoglycoside-...</td>\n",
       "      <td>If no effective alternative to an aminoglycosi...</td>\n",
       "      <td>[MT-RNR1]</td>\n",
       "      <td>{'MT-RNR1': 'No Result'}</td>\n",
       "      <td>{'MT-RNR1': 'No result on file'}</td>\n",
       "      <td>{}</td>\n",
       "      <td>{'MT-RNR1': 'No Result'}</td>\n",
       "      <td>[A MT-RNR1 genotype does not appear to have be...</td>\n",
       "    </tr>\n",
       "    <tr>\n",
       "      <th>1</th>\n",
       "      <td>RxNorm:10627</td>\n",
       "      <td>tobramycin</td>\n",
       "      <td>{'MT-RNR1': 'Very high risk of developing hear...</td>\n",
       "      <td>Avoid aminoglycoside anitbiotics unless the hi...</td>\n",
       "      <td>Strong</td>\n",
       "      <td>{'MT-RNR1': 'increased risk of aminoglycoside-...</td>\n",
       "      <td>{}</td>\n",
       "      <td>{}</td>\n",
       "      <td>{'MT-RNR1': 'increased risk of aminoglycoside-...</td>\n",
       "      <td>If no effective alternative to an aminoglycosi...</td>\n",
       "      <td>[MT-RNR1]</td>\n",
       "      <td>{'MT-RNR1': 'increased risk of aminoglycoside-...</td>\n",
       "      <td>{'MT-RNR1': 'n/a'}</td>\n",
       "      <td>{}</td>\n",
       "      <td>{'MT-RNR1': 'increased risk of aminoglycoside-...</td>\n",
       "      <td>[Based on the MT-RNR1 genotype result, this pa...</td>\n",
       "    </tr>\n",
       "    <tr>\n",
       "      <th>2</th>\n",
       "      <td>RxNorm:10627</td>\n",
       "      <td>tobramycin</td>\n",
       "      <td>{'MT-RNR1': 'Very high risk of developing hear...</td>\n",
       "      <td>Avoid aminoglycoside anitbiotics unless the hi...</td>\n",
       "      <td>Strong</td>\n",
       "      <td>{'MT-RNR1': 'increased risk of aminoglycoside-...</td>\n",
       "      <td>{}</td>\n",
       "      <td>{}</td>\n",
       "      <td>{'MT-RNR1': 'increased risk of aminoglycoside-...</td>\n",
       "      <td>If no effective alternative to an aminoglycosi...</td>\n",
       "      <td>[MT-RNR1]</td>\n",
       "      <td>{'MT-RNR1': 'normal risk of aminoglycoside-ind...</td>\n",
       "      <td>{'MT-RNR1': 'n/a'}</td>\n",
       "      <td>{}</td>\n",
       "      <td>{'MT-RNR1': 'normal risk of aminoglycoside-ind...</td>\n",
       "      <td>[n/a]</td>\n",
       "    </tr>\n",
       "    <tr>\n",
       "      <th>3</th>\n",
       "      <td>RxNorm:10627</td>\n",
       "      <td>tobramycin</td>\n",
       "      <td>{'MT-RNR1': 'Very high risk of developing hear...</td>\n",
       "      <td>Avoid aminoglycoside anitbiotics unless the hi...</td>\n",
       "      <td>Strong</td>\n",
       "      <td>{'MT-RNR1': 'increased risk of aminoglycoside-...</td>\n",
       "      <td>{}</td>\n",
       "      <td>{}</td>\n",
       "      <td>{'MT-RNR1': 'increased risk of aminoglycoside-...</td>\n",
       "      <td>If no effective alternative to an aminoglycosi...</td>\n",
       "      <td>[MT-RNR1]</td>\n",
       "      <td>{'MT-RNR1': 'uncertain risk of aminoglycoside-...</td>\n",
       "      <td>{'MT-RNR1': 'n/a'}</td>\n",
       "      <td>{}</td>\n",
       "      <td>{'MT-RNR1': 'uncertain risk of aminoglycoside-...</td>\n",
       "      <td>[n/a]</td>\n",
       "    </tr>\n",
       "    <tr>\n",
       "      <th>4</th>\n",
       "      <td>RxNorm:10627</td>\n",
       "      <td>tobramycin</td>\n",
       "      <td>{'MT-RNR1': 'Normal risk of developing hearing...</td>\n",
       "      <td>Use aminoglycoside antibiotics at standard dos...</td>\n",
       "      <td>Strong</td>\n",
       "      <td>{'MT-RNR1': 'normal risk of aminoglycoside-ind...</td>\n",
       "      <td>{}</td>\n",
       "      <td>{}</td>\n",
       "      <td>{'MT-RNR1': 'normal risk of aminoglycoside-ind...</td>\n",
       "      <td>Individuals without MT-RNR1 aminoglycoside-ind...</td>\n",
       "      <td>[MT-RNR1]</td>\n",
       "      <td>{'MT-RNR1': 'No Result'}</td>\n",
       "      <td>{'MT-RNR1': 'No result on file'}</td>\n",
       "      <td>{}</td>\n",
       "      <td>{'MT-RNR1': 'No Result'}</td>\n",
       "      <td>[A MT-RNR1 genotype does not appear to have be...</td>\n",
       "    </tr>\n",
       "    <tr>\n",
       "      <th>...</th>\n",
       "      <td>...</td>\n",
       "      <td>...</td>\n",
       "      <td>...</td>\n",
       "      <td>...</td>\n",
       "      <td>...</td>\n",
       "      <td>...</td>\n",
       "      <td>...</td>\n",
       "      <td>...</td>\n",
       "      <td>...</td>\n",
       "      <td>...</td>\n",
       "      <td>...</td>\n",
       "      <td>...</td>\n",
       "      <td>...</td>\n",
       "      <td>...</td>\n",
       "      <td>...</td>\n",
       "      <td>...</td>\n",
       "    </tr>\n",
       "    <tr>\n",
       "      <th>237099</th>\n",
       "      <td>RxNorm:32624</td>\n",
       "      <td>oxcarbazepine</td>\n",
       "      <td>{'HLA-B': 'Normal risk of oxcarbazepine-induce...</td>\n",
       "      <td>Use oxcarbazepine per standard dosing guidelines.</td>\n",
       "      <td>Strong</td>\n",
       "      <td>{}</td>\n",
       "      <td>{'HLA-B': 'n/a'}</td>\n",
       "      <td>{'HLA-B': 'HLA-B*15:02 negative'}</td>\n",
       "      <td>{'HLA-B': '*15:02 negative'}</td>\n",
       "      <td>n/a</td>\n",
       "      <td>[HLA-B]</td>\n",
       "      <td>{}</td>\n",
       "      <td>{}</td>\n",
       "      <td>{'HLA-B': '*15:02 positive'}</td>\n",
       "      <td>{'HLA-B': '*15:02 positive'}</td>\n",
       "      <td>[HLA-B*15:02 genetic status may be predictive ...</td>\n",
       "    </tr>\n",
       "    <tr>\n",
       "      <th>237100</th>\n",
       "      <td>RxNorm:32624</td>\n",
       "      <td>oxcarbazepine</td>\n",
       "      <td>{'HLA-B': 'Normal risk of oxcarbazepine-induce...</td>\n",
       "      <td>Use oxcarbazepine per standard dosing guidelines.</td>\n",
       "      <td>Strong</td>\n",
       "      <td>{}</td>\n",
       "      <td>{'HLA-B': 'n/a'}</td>\n",
       "      <td>{'HLA-B': 'HLA-B*15:02 negative'}</td>\n",
       "      <td>{'HLA-B': '*15:02 negative'}</td>\n",
       "      <td>n/a</td>\n",
       "      <td>[HLA-B]</td>\n",
       "      <td>{}</td>\n",
       "      <td>{}</td>\n",
       "      <td>{'HLA-B': '*15:02 negative'}</td>\n",
       "      <td>{'HLA-B': '*15:02 negative'}</td>\n",
       "      <td>[n/a]</td>\n",
       "    </tr>\n",
       "    <tr>\n",
       "      <th>237101</th>\n",
       "      <td>RxNorm:32624</td>\n",
       "      <td>oxcarbazepine</td>\n",
       "      <td>{'HLA-B': 'Greater risk of oxcarbazepine-induc...</td>\n",
       "      <td>The latency period for drug-induced SJS/TEN is...</td>\n",
       "      <td>Optional</td>\n",
       "      <td>{}</td>\n",
       "      <td>{'HLA-B': 'n/a'}</td>\n",
       "      <td>{'HLA-B': 'HLA-B*15:02 positive'}</td>\n",
       "      <td>{'HLA-B': '*15:02 positive'}</td>\n",
       "      <td>Previous tolerance of oxcarbazepine is not ind...</td>\n",
       "      <td>[HLA-B]</td>\n",
       "      <td>{}</td>\n",
       "      <td>{}</td>\n",
       "      <td>{'HLA-B': 'No *15:02 result on file'}</td>\n",
       "      <td>{'HLA-B': 'No *15:02 result on file'}</td>\n",
       "      <td>[HLA-B*15:02 genetic status may be predictive ...</td>\n",
       "    </tr>\n",
       "    <tr>\n",
       "      <th>237102</th>\n",
       "      <td>RxNorm:32624</td>\n",
       "      <td>oxcarbazepine</td>\n",
       "      <td>{'HLA-B': 'Greater risk of oxcarbazepine-induc...</td>\n",
       "      <td>The latency period for drug-induced SJS/TEN is...</td>\n",
       "      <td>Optional</td>\n",
       "      <td>{}</td>\n",
       "      <td>{'HLA-B': 'n/a'}</td>\n",
       "      <td>{'HLA-B': 'HLA-B*15:02 positive'}</td>\n",
       "      <td>{'HLA-B': '*15:02 positive'}</td>\n",
       "      <td>Previous tolerance of oxcarbazepine is not ind...</td>\n",
       "      <td>[HLA-B]</td>\n",
       "      <td>{}</td>\n",
       "      <td>{}</td>\n",
       "      <td>{'HLA-B': '*15:02 positive'}</td>\n",
       "      <td>{'HLA-B': '*15:02 positive'}</td>\n",
       "      <td>[HLA-B*15:02 genetic status may be predictive ...</td>\n",
       "    </tr>\n",
       "    <tr>\n",
       "      <th>237103</th>\n",
       "      <td>RxNorm:32624</td>\n",
       "      <td>oxcarbazepine</td>\n",
       "      <td>{'HLA-B': 'Greater risk of oxcarbazepine-induc...</td>\n",
       "      <td>The latency period for drug-induced SJS/TEN is...</td>\n",
       "      <td>Optional</td>\n",
       "      <td>{}</td>\n",
       "      <td>{'HLA-B': 'n/a'}</td>\n",
       "      <td>{'HLA-B': 'HLA-B*15:02 positive'}</td>\n",
       "      <td>{'HLA-B': '*15:02 positive'}</td>\n",
       "      <td>Previous tolerance of oxcarbazepine is not ind...</td>\n",
       "      <td>[HLA-B]</td>\n",
       "      <td>{}</td>\n",
       "      <td>{}</td>\n",
       "      <td>{'HLA-B': '*15:02 negative'}</td>\n",
       "      <td>{'HLA-B': '*15:02 negative'}</td>\n",
       "      <td>[n/a]</td>\n",
       "    </tr>\n",
       "  </tbody>\n",
       "</table>\n",
       "<p>237104 rows × 16 columns</p>\n",
       "</div>"
      ],
      "text/plain": [
       "              drugid           name   \n",
       "0       RxNorm:10627     tobramycin  \\\n",
       "1       RxNorm:10627     tobramycin   \n",
       "2       RxNorm:10627     tobramycin   \n",
       "3       RxNorm:10627     tobramycin   \n",
       "4       RxNorm:10627     tobramycin   \n",
       "...              ...            ...   \n",
       "237099  RxNorm:32624  oxcarbazepine   \n",
       "237100  RxNorm:32624  oxcarbazepine   \n",
       "237101  RxNorm:32624  oxcarbazepine   \n",
       "237102  RxNorm:32624  oxcarbazepine   \n",
       "237103  RxNorm:32624  oxcarbazepine   \n",
       "\n",
       "                                             implications   \n",
       "0       {'MT-RNR1': 'Very high risk of developing hear...  \\\n",
       "1       {'MT-RNR1': 'Very high risk of developing hear...   \n",
       "2       {'MT-RNR1': 'Very high risk of developing hear...   \n",
       "3       {'MT-RNR1': 'Very high risk of developing hear...   \n",
       "4       {'MT-RNR1': 'Normal risk of developing hearing...   \n",
       "...                                                   ...   \n",
       "237099  {'HLA-B': 'Normal risk of oxcarbazepine-induce...   \n",
       "237100  {'HLA-B': 'Normal risk of oxcarbazepine-induce...   \n",
       "237101  {'HLA-B': 'Greater risk of oxcarbazepine-induc...   \n",
       "237102  {'HLA-B': 'Greater risk of oxcarbazepine-induc...   \n",
       "237103  {'HLA-B': 'Greater risk of oxcarbazepine-induc...   \n",
       "\n",
       "                                       drugrecommendation classification   \n",
       "0       Avoid aminoglycoside anitbiotics unless the hi...         Strong  \\\n",
       "1       Avoid aminoglycoside anitbiotics unless the hi...         Strong   \n",
       "2       Avoid aminoglycoside anitbiotics unless the hi...         Strong   \n",
       "3       Avoid aminoglycoside anitbiotics unless the hi...         Strong   \n",
       "4       Use aminoglycoside antibiotics at standard dos...         Strong   \n",
       "...                                                   ...            ...   \n",
       "237099  Use oxcarbazepine per standard dosing guidelines.         Strong   \n",
       "237100  Use oxcarbazepine per standard dosing guidelines.         Strong   \n",
       "237101  The latency period for drug-induced SJS/TEN is...       Optional   \n",
       "237102  The latency period for drug-induced SJS/TEN is...       Optional   \n",
       "237103  The latency period for drug-induced SJS/TEN is...       Optional   \n",
       "\n",
       "                                               phenotypes   activityscore_x   \n",
       "0       {'MT-RNR1': 'increased risk of aminoglycoside-...                {}  \\\n",
       "1       {'MT-RNR1': 'increased risk of aminoglycoside-...                {}   \n",
       "2       {'MT-RNR1': 'increased risk of aminoglycoside-...                {}   \n",
       "3       {'MT-RNR1': 'increased risk of aminoglycoside-...                {}   \n",
       "4       {'MT-RNR1': 'normal risk of aminoglycoside-ind...                {}   \n",
       "...                                                   ...               ...   \n",
       "237099                                                 {}  {'HLA-B': 'n/a'}   \n",
       "237100                                                 {}  {'HLA-B': 'n/a'}   \n",
       "237101                                                 {}  {'HLA-B': 'n/a'}   \n",
       "237102                                                 {}  {'HLA-B': 'n/a'}   \n",
       "237103                                                 {}  {'HLA-B': 'n/a'}   \n",
       "\n",
       "                           allelestatus_x   \n",
       "0                                      {}  \\\n",
       "1                                      {}   \n",
       "2                                      {}   \n",
       "3                                      {}   \n",
       "4                                      {}   \n",
       "...                                   ...   \n",
       "237099  {'HLA-B': 'HLA-B*15:02 negative'}   \n",
       "237100  {'HLA-B': 'HLA-B*15:02 negative'}   \n",
       "237101  {'HLA-B': 'HLA-B*15:02 positive'}   \n",
       "237102  {'HLA-B': 'HLA-B*15:02 positive'}   \n",
       "237103  {'HLA-B': 'HLA-B*15:02 positive'}   \n",
       "\n",
       "                                              lookupkey_x   \n",
       "0       {'MT-RNR1': 'increased risk of aminoglycoside-...  \\\n",
       "1       {'MT-RNR1': 'increased risk of aminoglycoside-...   \n",
       "2       {'MT-RNR1': 'increased risk of aminoglycoside-...   \n",
       "3       {'MT-RNR1': 'increased risk of aminoglycoside-...   \n",
       "4       {'MT-RNR1': 'normal risk of aminoglycoside-ind...   \n",
       "...                                                   ...   \n",
       "237099                       {'HLA-B': '*15:02 negative'}   \n",
       "237100                       {'HLA-B': '*15:02 negative'}   \n",
       "237101                       {'HLA-B': '*15:02 positive'}   \n",
       "237102                       {'HLA-B': '*15:02 positive'}   \n",
       "237103                       {'HLA-B': '*15:02 positive'}   \n",
       "\n",
       "                                                 comments      genes   \n",
       "0       If no effective alternative to an aminoglycosi...  [MT-RNR1]  \\\n",
       "1       If no effective alternative to an aminoglycosi...  [MT-RNR1]   \n",
       "2       If no effective alternative to an aminoglycosi...  [MT-RNR1]   \n",
       "3       If no effective alternative to an aminoglycosi...  [MT-RNR1]   \n",
       "4       Individuals without MT-RNR1 aminoglycoside-ind...  [MT-RNR1]   \n",
       "...                                                   ...        ...   \n",
       "237099                                                n/a    [HLA-B]   \n",
       "237100                                                n/a    [HLA-B]   \n",
       "237101  Previous tolerance of oxcarbazepine is not ind...    [HLA-B]   \n",
       "237102  Previous tolerance of oxcarbazepine is not ind...    [HLA-B]   \n",
       "237103  Previous tolerance of oxcarbazepine is not ind...    [HLA-B]   \n",
       "\n",
       "                                                phenotype   \n",
       "0                                {'MT-RNR1': 'No Result'}  \\\n",
       "1       {'MT-RNR1': 'increased risk of aminoglycoside-...   \n",
       "2       {'MT-RNR1': 'normal risk of aminoglycoside-ind...   \n",
       "3       {'MT-RNR1': 'uncertain risk of aminoglycoside-...   \n",
       "4                                {'MT-RNR1': 'No Result'}   \n",
       "...                                                   ...   \n",
       "237099                                                 {}   \n",
       "237100                                                 {}   \n",
       "237101                                                 {}   \n",
       "237102                                                 {}   \n",
       "237103                                                 {}   \n",
       "\n",
       "                         activityscore_y   \n",
       "0       {'MT-RNR1': 'No result on file'}  \\\n",
       "1                     {'MT-RNR1': 'n/a'}   \n",
       "2                     {'MT-RNR1': 'n/a'}   \n",
       "3                     {'MT-RNR1': 'n/a'}   \n",
       "4       {'MT-RNR1': 'No result on file'}   \n",
       "...                                  ...   \n",
       "237099                                {}   \n",
       "237100                                {}   \n",
       "237101                                {}   \n",
       "237102                                {}   \n",
       "237103                                {}   \n",
       "\n",
       "                               allelestatus_y   \n",
       "0                                          {}  \\\n",
       "1                                          {}   \n",
       "2                                          {}   \n",
       "3                                          {}   \n",
       "4                                          {}   \n",
       "...                                       ...   \n",
       "237099           {'HLA-B': '*15:02 positive'}   \n",
       "237100           {'HLA-B': '*15:02 negative'}   \n",
       "237101  {'HLA-B': 'No *15:02 result on file'}   \n",
       "237102           {'HLA-B': '*15:02 positive'}   \n",
       "237103           {'HLA-B': '*15:02 negative'}   \n",
       "\n",
       "                                              lookupkey_y   \n",
       "0                                {'MT-RNR1': 'No Result'}  \\\n",
       "1       {'MT-RNR1': 'increased risk of aminoglycoside-...   \n",
       "2       {'MT-RNR1': 'normal risk of aminoglycoside-ind...   \n",
       "3       {'MT-RNR1': 'uncertain risk of aminoglycoside-...   \n",
       "4                                {'MT-RNR1': 'No Result'}   \n",
       "...                                                   ...   \n",
       "237099                       {'HLA-B': '*15:02 positive'}   \n",
       "237100                       {'HLA-B': '*15:02 negative'}   \n",
       "237101              {'HLA-B': 'No *15:02 result on file'}   \n",
       "237102                       {'HLA-B': '*15:02 positive'}   \n",
       "237103                       {'HLA-B': '*15:02 negative'}   \n",
       "\n",
       "                                                alerttext  \n",
       "0       [A MT-RNR1 genotype does not appear to have be...  \n",
       "1       [Based on the MT-RNR1 genotype result, this pa...  \n",
       "2                                                   [n/a]  \n",
       "3                                                   [n/a]  \n",
       "4       [A MT-RNR1 genotype does not appear to have be...  \n",
       "...                                                   ...  \n",
       "237099  [HLA-B*15:02 genetic status may be predictive ...  \n",
       "237100                                              [n/a]  \n",
       "237101  [HLA-B*15:02 genetic status may be predictive ...  \n",
       "237102  [HLA-B*15:02 genetic status may be predictive ...  \n",
       "237103                                              [n/a]  \n",
       "\n",
       "[237104 rows x 16 columns]"
      ]
     },
     "execution_count": 19,
     "metadata": {},
     "output_type": "execute_result"
    }
   ],
   "source": [
    "merge1 = pd.merge(drugs_new, recommendations_new, left_on = 'drugid', right_on = 'drugid', how = 'inner')\n",
    "merge2 = pd.merge(merge1, test_alert_new, left_on = 'drugid', right_on = 'drugid', how = 'inner')\n",
    "merge2"
   ]
  },
  {
   "cell_type": "markdown",
   "metadata": {},
   "source": [
    "## "
   ]
  },
  {
   "cell_type": "code",
   "execution_count": 20,
   "metadata": {},
   "outputs": [
    {
     "name": "stdout",
     "output_type": "stream",
     "text": [
      "Number of 'n/a' values in the 'drugrecommendation' column: 175\n",
      "Number of 'No collected data available.' values in the 'drugrecommendation' column: 175\n"
     ]
    }
   ],
   "source": [
    "#Check the number of 'n/a's in the merge2 dataframe.\n",
    "na_count = (merge2['drugrecommendation'] == 'n/a').sum()\n",
    "print(\"Number of 'n/a' values in the 'drugrecommendation' column:\", na_count)\n",
    "merge2.shape\n",
    "\n",
    "merge2.loc[merge2['drugrecommendation'] == 'n/a', 'drugrecommendation'] = 'No collected data available.'\n",
    "replaced = (merge2['drugrecommendation'] == 'No collected data available.').sum()\n",
    "print(\"Number of 'No collected data available.' values in the 'drugrecommendation' column:\", replaced)"
   ]
  },
  {
   "cell_type": "code",
   "execution_count": 21,
   "metadata": {},
   "outputs": [
    {
     "data": {
      "text/plain": [
       "'Use aminoglycoside antibiotics at standard doses for the shortest feasible course with therapeutic dose monitoring. Evaluate regularly for hearing loss in line with local guidance. Consult your pharmacist or doctor to discuss other medication options.'"
      ]
     },
     "execution_count": 21,
     "metadata": {},
     "output_type": "execute_result"
    }
   ],
   "source": [
    "# Add \"Consult your pharmacist or doctor to discuss other medication options.\" to the drugrecommendation column\n",
    "merge2['drugrecommendation'] += \" Consult your pharmacist or doctor to discuss other medication options.\"\n",
    "merge2['drugrecommendation'][10]"
   ]
  },
  {
   "cell_type": "markdown",
   "metadata": {
    "id": "82Q7qNsj05j6"
   },
   "source": [
    "## Finding just the ones with Strong classification"
   ]
  },
  {
   "cell_type": "code",
   "execution_count": 22,
   "metadata": {
    "colab": {
     "base_uri": "https://localhost:8080/",
     "height": 603
    },
    "id": "HVN4_IdEpl80",
    "outputId": "dfcb39f7-9e67-4d78-9f15-f6465088be6b"
   },
   "outputs": [
    {
     "data": {
      "image/png": "[encoded data removed]",
      "text/plain": [
       "<Figure size 432x288 with 1 Axes>"
      ]
     },
     "metadata": {
      "needs_background": "light"
     },
     "output_type": "display_data"
    }
   ],
   "source": [
    "classification_counts = merge2['classification'].value_counts()\n",
    "\n",
    "classification_counts.plot(kind='bar')\n",
    "\n",
    "plt.title('Classification Counts')\n",
    "plt.xlabel('Classification')\n",
    "plt.ylabel('Count')\n",
    "\n",
    "plt.show()"
   ]
  },
  {
   "cell_type": "code",
   "execution_count": 23,
   "metadata": {
    "id": "45Uq-91eqTTM"
   },
   "outputs": [],
   "source": [
    "filtered_df = merge2[merge2['classification'] == 'Strong']"
   ]
  },
  {
   "cell_type": "code",
   "execution_count": 24,
   "metadata": {
    "colab": {
     "base_uri": "https://localhost:8080/"
    },
    "id": "969oMtHurRgE",
    "outputId": "300ffdb3-a1b4-4470-aa9d-b2f33619120e"
   },
   "outputs": [
    {
     "data": {
      "text/plain": [
       "(35364, 16)"
      ]
     },
     "execution_count": 24,
     "metadata": {},
     "output_type": "execute_result"
    }
   ],
   "source": [
    "filtered_df.shape"
   ]
  },
  {
   "cell_type": "code",
   "execution_count": 25,
   "metadata": {
    "colab": {
     "base_uri": "https://localhost:8080/"
    },
    "id": "Y3rEO3TZqr4c",
    "outputId": "9771ac38-10ad-4b77-be8c-6c5fa867b88c"
   },
   "outputs": [
    {
     "data": {
      "text/plain": [
       "102"
      ]
     },
     "execution_count": 25,
     "metadata": {},
     "output_type": "execute_result"
    }
   ],
   "source": [
    "unique_drugids = filtered_df['drugid'].nunique()\n",
    "unique_drugids"
   ]
  },
  {
   "cell_type": "code",
   "execution_count": 26,
   "metadata": {
    "id": "aEooICU802o6"
   },
   "outputs": [],
   "source": [
    "name_drugs = filtered_df['name'].unique()"
   ]
  },
  {
   "cell_type": "code",
   "execution_count": 27,
   "metadata": {
    "id": "iuFkHadY6YBp"
   },
   "outputs": [],
   "source": [
    "filtered_df.to_csv('filtered_drugs_recommendations.csv')"
   ]
  },
  {
   "cell_type": "code",
   "execution_count": 28,
   "metadata": {
    "id": "L5MiyBZH1bas"
   },
   "outputs": [],
   "source": [
    "pd.DataFrame(name_drugs).to_csv(\"name_drugs.csv\", header=None, index=None)"
   ]
  },
  {
   "cell_type": "code",
   "execution_count": null,
   "metadata": {
    "id": "ZiGlDFbY3pPh"
   },
   "outputs": [],
   "source": []
  }
 ],
 "metadata": {
  "colab": {
   "provenance": []
  },
  "kernelspec": {
   "display_name": "Python 3 (ipykernel)",
   "language": "python",
   "name": "python3"
  },
  "language_info": {
   "codemirror_mode": {
    "name": "ipython",
    "version": 3
   },
   "file_extension": ".py",
   "mimetype": "text/x-python",
   "name": "python",
   "nbconvert_exporter": "python",
   "pygments_lexer": "ipython3",
   "version": "3.9.12"
  }
 },
 "nbformat": 4,
 "nbformat_minor": 4
}
